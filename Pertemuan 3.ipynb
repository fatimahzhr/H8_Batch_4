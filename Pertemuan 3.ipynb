{
 "cells": [
  {
   "cell_type": "markdown",
   "id": "7eb260ac",
   "metadata": {},
   "source": [
    "# Function, Module, and Package"
   ]
  },
  {
   "cell_type": "markdown",
   "id": "fe9a4e06",
   "metadata": {},
   "source": [
    "## Function"
   ]
  },
  {
   "cell_type": "code",
   "execution_count": 1,
   "id": "7b76d09f",
   "metadata": {},
   "outputs": [],
   "source": [
    "def f(x):\n",
    "    value = x**2 + (2*x) + 3\n",
    "    return value"
   ]
  },
  {
   "cell_type": "code",
   "execution_count": 3,
   "id": "0b6c7e84",
   "metadata": {},
   "outputs": [
    {
     "data": {
      "text/plain": [
       "27"
      ]
     },
     "execution_count": 3,
     "metadata": {},
     "output_type": "execute_result"
    }
   ],
   "source": [
    "f(4)"
   ]
  },
  {
   "cell_type": "code",
   "execution_count": 4,
   "id": "475c4550",
   "metadata": {},
   "outputs": [
    {
     "name": "stdout",
     "output_type": "stream",
     "text": [
      "17\n"
     ]
    }
   ],
   "source": [
    "var1 = f(1)\n",
    "var2 = f(2)\n",
    "print(var1 + var2)"
   ]
  },
  {
   "cell_type": "code",
   "execution_count": 7,
   "id": "e4e0df23",
   "metadata": {},
   "outputs": [],
   "source": [
    "def factorials(n):\n",
    "    value = 1\n",
    "    while n > 1:\n",
    "        value *= n\n",
    "        n -= 1\n",
    "    return value"
   ]
  },
  {
   "cell_type": "code",
   "execution_count": 10,
   "id": "c8934de2",
   "metadata": {},
   "outputs": [
    {
     "data": {
      "text/plain": [
       "24"
      ]
     },
     "execution_count": 10,
     "metadata": {},
     "output_type": "execute_result"
    }
   ],
   "source": [
    "factorials(4)"
   ]
  },
  {
   "cell_type": "code",
   "execution_count": 39,
   "id": "bf075815",
   "metadata": {},
   "outputs": [],
   "source": [
    "def penjumlahan(bilangan1, bilangan2):\n",
    "    return bilangan1 + bilangan2"
   ]
  },
  {
   "cell_type": "code",
   "execution_count": 85,
   "id": "ee08508b",
   "metadata": {},
   "outputs": [
    {
     "data": {
      "text/plain": [
       "12"
      ]
     },
     "execution_count": 85,
     "metadata": {},
     "output_type": "execute_result"
    }
   ],
   "source": [
    "penjumlahan(5, 7)"
   ]
  },
  {
   "cell_type": "code",
   "execution_count": 22,
   "id": "df02379b",
   "metadata": {},
   "outputs": [],
   "source": [
    "def penjumlahaninputlist(list_input):\n",
    "    total = 0\n",
    "    for i in list_input:\n",
    "            total += i\n",
    "    return total\n"
   ]
  },
  {
   "cell_type": "code",
   "execution_count": 24,
   "id": "0f7b9e3e",
   "metadata": {},
   "outputs": [
    {
     "data": {
      "text/plain": [
       "80"
      ]
     },
     "execution_count": 24,
     "metadata": {},
     "output_type": "execute_result"
    }
   ],
   "source": [
    "penjumlahaninputlist([10, 20, 50])"
   ]
  },
  {
   "cell_type": "code",
   "execution_count": 29,
   "id": "58ce7319",
   "metadata": {},
   "outputs": [],
   "source": [
    "def penjumlahan(*val_arg):\n",
    "    total = 0\n",
    "    for i in val_arg:\n",
    "        total += 1\n",
    "    return 0"
   ]
  },
  {
   "cell_type": "code",
   "execution_count": 30,
   "id": "e1b6cb85",
   "metadata": {},
   "outputs": [
    {
     "data": {
      "text/plain": [
       "0"
      ]
     },
     "execution_count": 30,
     "metadata": {},
     "output_type": "execute_result"
    }
   ],
   "source": [
    "penjumlahan(1,2,3,4,5)"
   ]
  },
  {
   "cell_type": "code",
   "execution_count": 31,
   "id": "9266b9a8",
   "metadata": {},
   "outputs": [],
   "source": [
    "# def f(x):\n",
    "# value = x**2 + (2*x) + 3\n",
    "# return value\n",
    "\n",
    "g = lambda x: x**2 + (2*x) + 3"
   ]
  },
  {
   "cell_type": "code",
   "execution_count": 32,
   "id": "ceb4366f",
   "metadata": {},
   "outputs": [
    {
     "data": {
      "text/plain": [
       "18"
      ]
     },
     "execution_count": 32,
     "metadata": {},
     "output_type": "execute_result"
    }
   ],
   "source": [
    "g(3)"
   ]
  },
  {
   "cell_type": "code",
   "execution_count": 33,
   "id": "1176b29d",
   "metadata": {},
   "outputs": [],
   "source": [
    "pengalian = lambda x,y: x*y"
   ]
  },
  {
   "cell_type": "code",
   "execution_count": 34,
   "id": "82b04077",
   "metadata": {},
   "outputs": [
    {
     "data": {
      "text/plain": [
       "54"
      ]
     },
     "execution_count": 34,
     "metadata": {},
     "output_type": "execute_result"
    }
   ],
   "source": [
    "pengalian(6, 9)"
   ]
  },
  {
   "cell_type": "code",
   "execution_count": 41,
   "id": "05d0968f",
   "metadata": {},
   "outputs": [],
   "source": [
    "# Fungsi Rekursif\n",
    "\n",
    "def factorials(n):\n",
    "    if (n == 1) or (n == 0):\n",
    "        return 1\n",
    "    else:\n",
    "        return n * factorials(n-1)"
   ]
  },
  {
   "cell_type": "code",
   "execution_count": 42,
   "id": "62ec7c62",
   "metadata": {},
   "outputs": [
    {
     "data": {
      "text/plain": [
       "24"
      ]
     },
     "execution_count": 42,
     "metadata": {},
     "output_type": "execute_result"
    }
   ],
   "source": [
    "factorials(4)"
   ]
  },
  {
   "cell_type": "code",
   "execution_count": 43,
   "id": "079300f9",
   "metadata": {},
   "outputs": [
    {
     "name": "stdout",
     "output_type": "stream",
     "text": [
      "ini masuk prosedur\n",
      "ini adalah input pertama\n",
      "ini adalah input kedua\n"
     ]
    }
   ],
   "source": [
    "# prosedur tidak membalikkan return, jadi hanya mengikat banyak line\n",
    "\n",
    "def prosedur(input1, input2):\n",
    "    print(\"ini masuk prosedur\")\n",
    "    print(input1)\n",
    "    print(input2)\n",
    "\n",
    "prosedur(\"ini adalah input pertama\", \"ini adalah input kedua\")"
   ]
  },
  {
   "cell_type": "code",
   "execution_count": 44,
   "id": "2ee034cd",
   "metadata": {},
   "outputs": [
    {
     "name": "stdout",
     "output_type": "stream",
     "text": [
      "value list di dalam prosedur:  [10, 20, 30, 40, [1, 23, 4, 5]]\n",
      "value list di luar prosedur:  [10, 20, 30, 40, [1, 23, 4, 5]]\n"
     ]
    }
   ],
   "source": [
    "def prodc(list_input):\n",
    "    list_input.append([1,23,4,5])\n",
    "    print(\"value list di dalam prosedur: \", list_input)\n",
    "\n",
    "list1 = [10,20,30,40]\n",
    "prodc(list1)\n",
    "print(\"value list di luar prosedur: \", list1)"
   ]
  },
  {
   "cell_type": "code",
   "execution_count": 46,
   "id": "935da54b",
   "metadata": {},
   "outputs": [
    {
     "name": "stdout",
     "output_type": "stream",
     "text": [
      "values list di dalam prosedur:  [1, 23, 4, 5]\n",
      "value list di luar prosedur:  [10, 20, 30, 40]\n"
     ]
    }
   ],
   "source": [
    "def prodc(list_input):\n",
    "    list_input = ([1,23,4,5])\n",
    "    print(\"values list di dalam prosedur: \", list_input)\n",
    "\n",
    "list1 = [10,20,30,40]\n",
    "prodc(list1)\n",
    "print(\"value list di luar prosedur: \", list1)"
   ]
  },
  {
   "cell_type": "code",
   "execution_count": 48,
   "id": "9908790f",
   "metadata": {},
   "outputs": [
    {
     "name": "stdout",
     "output_type": "stream",
     "text": [
      "Bilangan di dalam prosedur:  6\n",
      "Bilangan di luar prosedur:  5\n"
     ]
    }
   ],
   "source": [
    "def tambah_satu (x):\n",
    "    x += 1\n",
    "    print(\"Bilangan di dalam prosedur: \", x)\n",
    "\n",
    "bil1 = 5\n",
    "tambah_satu(bil1)\n",
    "print(\"Bilangan di luar prosedur: \", bil1)"
   ]
  },
  {
   "cell_type": "code",
   "execution_count": 55,
   "id": "83d19fe4",
   "metadata": {},
   "outputs": [],
   "source": [
    "def prosedur_no_input(s):\n",
    "    print(\"ABC\")\n",
    "    print(\"DEF\")\n",
    "    print(s)"
   ]
  },
  {
   "cell_type": "code",
   "execution_count": 58,
   "id": "7466c217",
   "metadata": {},
   "outputs": [
    {
     "name": "stdout",
     "output_type": "stream",
     "text": [
      "ABC\n",
      "DEF\n",
      "ini String\n"
     ]
    }
   ],
   "source": [
    "prosedur_no_input(s = \"ini String\")"
   ]
  },
  {
   "cell_type": "code",
   "execution_count": 59,
   "id": "49f4488d",
   "metadata": {},
   "outputs": [],
   "source": [
    "def pembagian(x, y):\n",
    "    return x/y"
   ]
  },
  {
   "cell_type": "code",
   "execution_count": 60,
   "id": "8c70a42d",
   "metadata": {},
   "outputs": [
    {
     "data": {
      "text/plain": [
       "3.4285714285714284"
      ]
     },
     "execution_count": 60,
     "metadata": {},
     "output_type": "execute_result"
    }
   ],
   "source": [
    "pembagian(y=7, x=24)"
   ]
  },
  {
   "cell_type": "code",
   "execution_count": 61,
   "id": "2ba55d92",
   "metadata": {},
   "outputs": [
    {
     "name": "stdout",
     "output_type": "stream",
     "text": [
      "Nama:  fatim\n",
      "Umur:  5\n"
     ]
    }
   ],
   "source": [
    "def printinfo(nama, umur):\n",
    "    print(\"Nama: \", nama)\n",
    "    print(\"Umur: \", umur)\n",
    "\n",
    "printinfo(nama=\"fatim\", umur=5)"
   ]
  },
  {
   "cell_type": "code",
   "execution_count": 63,
   "id": "fb8f45db",
   "metadata": {},
   "outputs": [
    {
     "name": "stdout",
     "output_type": "stream",
     "text": [
      "Nama:  fatim\n",
      "Umur:  30\n"
     ]
    }
   ],
   "source": [
    "def printinfo(nama, umur=20):\n",
    "    print(\"Nama: \", nama)\n",
    "    print(\"Umur: \", umur)\n",
    "    \n",
    "printinfo(nama=\"fatim\", umur=30)"
   ]
  },
  {
   "cell_type": "code",
   "execution_count": 64,
   "id": "84e8ecdd",
   "metadata": {},
   "outputs": [
    {
     "name": "stdout",
     "output_type": "stream",
     "text": [
      "Nama:  fatim\n",
      "Umur:  20\n"
     ]
    }
   ],
   "source": [
    "def printinfo(nama, umur=20):\n",
    "    print(\"Nama: \", nama)\n",
    "    print(\"Umur: \", umur)\n",
    "    \n",
    "printinfo(nama=\"fatim\")"
   ]
  },
  {
   "cell_type": "code",
   "execution_count": 71,
   "id": "b412a13d",
   "metadata": {},
   "outputs": [
    {
     "name": "stdout",
     "output_type": "stream",
     "text": [
      "Bilangan di dalam prosedur:  6\n",
      "Bilangan di luar prosedur:  6\n"
     ]
    }
   ],
   "source": [
    "bil1 = 5\n",
    "\n",
    "def tambah_satu ():\n",
    "    global bil1\n",
    "    bil1 += 1\n",
    "    print(\"Bilangan di dalam prosedur: \", bil1)\n",
    "\n",
    "tambah_satu()\n",
    "print(\"Bilangan di luar prosedur: \", bil1)"
   ]
  },
  {
   "cell_type": "code",
   "execution_count": 73,
   "id": "7ff65361",
   "metadata": {},
   "outputs": [
    {
     "name": "stdout",
     "output_type": "stream",
     "text": [
      "di dalam prosedur:  9\n",
      "di luar prosedur:  9\n"
     ]
    }
   ],
   "source": [
    "total = 0\n",
    "def jumlah(bil1, bil2):\n",
    "    global total\n",
    "    total = bil1 + bil2\n",
    "    print(\"di dalam prosedur: \", total)\n",
    "    \n",
    "jumlah(5, 4)\n",
    "print(\"di luar prosedur: \", total)"
   ]
  },
  {
   "cell_type": "code",
   "execution_count": 75,
   "id": "1de81a24",
   "metadata": {},
   "outputs": [
    {
     "name": "stdout",
     "output_type": "stream",
     "text": [
      "di dalam prosedur:  9\n",
      "di luar prosedur:  9\n"
     ]
    }
   ],
   "source": [
    "total = 0\n",
    "def jumlah(bil1, bil2):\n",
    "    # global total\n",
    "    total = bil1 + bil2\n",
    "    print(\"di dalam prosedur: \", total)\n",
    "    return total\n",
    "\n",
    "total = jumlah(5, 4)\n",
    "print(\"di luar prosedur: \", total)"
   ]
  },
  {
   "cell_type": "code",
   "execution_count": 76,
   "id": "89ba5413",
   "metadata": {},
   "outputs": [
    {
     "data": {
      "text/plain": [
       "50"
      ]
     },
     "execution_count": 76,
     "metadata": {},
     "output_type": "execute_result"
    }
   ],
   "source": [
    "bilangan1 = 20\n",
    "def jumlah1():\n",
    "    bilangan2 = 30\n",
    "    return bilangan1 + bilangan2\n",
    "\n",
    "jumlah1()"
   ]
  },
  {
   "cell_type": "code",
   "execution_count": 77,
   "id": "bdc64a9a",
   "metadata": {},
   "outputs": [
    {
     "data": {
      "text/plain": [
       "40"
      ]
     },
     "execution_count": 77,
     "metadata": {},
     "output_type": "execute_result"
    }
   ],
   "source": [
    "bilangan1 = 20\n",
    "def jumlah1():\n",
    "    bilangan2 = 30\n",
    "    bilangan1 = 10\n",
    "    return bilangan1 + bilangan2\n",
    "\n",
    "jumlah1()"
   ]
  },
  {
   "cell_type": "code",
   "execution_count": 78,
   "id": "17b5ee51",
   "metadata": {},
   "outputs": [
    {
     "data": {
      "text/plain": [
       "20"
      ]
     },
     "execution_count": 78,
     "metadata": {},
     "output_type": "execute_result"
    }
   ],
   "source": [
    "bilangan1"
   ]
  },
  {
   "cell_type": "code",
   "execution_count": null,
   "id": "a750001b",
   "metadata": {},
   "outputs": [],
   "source": [
    "# function dan prosedur mirip, prosedur tdk ada return\n",
    "# di function ada 2 variabel: local dan global\n",
    "# lambda dapat dipakai untuk fungsi one liner"
   ]
  },
  {
   "cell_type": "markdown",
   "id": "99ee2c7f",
   "metadata": {},
   "source": [
    "## Module"
   ]
  },
  {
   "cell_type": "code",
   "execution_count": null,
   "id": "1a1ad49c",
   "metadata": {},
   "outputs": [],
   "source": [
    "# file python external "
   ]
  },
  {
   "cell_type": "code",
   "execution_count": 88,
   "id": "3aae2698",
   "metadata": {},
   "outputs": [],
   "source": [
    "import sys"
   ]
  },
  {
   "cell_type": "code",
   "execution_count": 89,
   "id": "d4fcbe0a",
   "metadata": {},
   "outputs": [
    {
     "name": "stdout",
     "output_type": "stream",
     "text": [
      "['C:\\\\Users\\\\Fatimah Zahra', 'C:\\\\Anaconda\\\\python39.zip', 'C:\\\\Anaconda\\\\DLLs', 'C:\\\\Anaconda\\\\lib', 'C:\\\\Anaconda', '', 'C:\\\\Users\\\\Fatimah Zahra\\\\AppData\\\\Roaming\\\\Python\\\\Python39\\\\site-packages', 'C:\\\\Anaconda\\\\lib\\\\site-packages', 'C:\\\\Anaconda\\\\lib\\\\site-packages\\\\win32', 'C:\\\\Anaconda\\\\lib\\\\site-packages\\\\win32\\\\lib', 'C:\\\\Anaconda\\\\lib\\\\site-packages\\\\Pythonwin', 'C:\\\\Anaconda\\\\lib\\\\site-packages\\\\IPython\\\\extensions', 'C:\\\\Users\\\\Fatimah Zahra\\\\.ipython']\n"
     ]
    }
   ],
   "source": [
    "print(sys.path)"
   ]
  },
  {
   "cell_type": "code",
   "execution_count": 7,
   "id": "3ebb44dd",
   "metadata": {},
   "outputs": [],
   "source": [
    "import mod "
   ]
  },
  {
   "cell_type": "code",
   "execution_count": 8,
   "id": "c6c6b3ad",
   "metadata": {},
   "outputs": [
    {
     "data": {
      "text/plain": [
       "'Tutorial Modul Python'"
      ]
     },
     "execution_count": 8,
     "metadata": {},
     "output_type": "execute_result"
    }
   ],
   "source": [
    "mod.s "
   ]
  },
  {
   "cell_type": "code",
   "execution_count": 10,
   "id": "380d34f4",
   "metadata": {},
   "outputs": [],
   "source": [
    "# from mod import fungsi_kostum"
   ]
  },
  {
   "cell_type": "code",
   "execution_count": 12,
   "id": "575519a4",
   "metadata": {},
   "outputs": [
    {
     "data": {
      "text/plain": [
       "7"
      ]
     },
     "execution_count": 12,
     "metadata": {},
     "output_type": "execute_result"
    }
   ],
   "source": [
    "# fungsi_kostum(1,2,3) "
   ]
  },
  {
   "cell_type": "code",
   "execution_count": 20,
   "id": "68b0cc10",
   "metadata": {},
   "outputs": [],
   "source": [
    "from mod import fungsi_kostum as fk"
   ]
  },
  {
   "cell_type": "code",
   "execution_count": 21,
   "id": "dc07c94e",
   "metadata": {},
   "outputs": [
    {
     "data": {
      "text/plain": [
       "11"
      ]
     },
     "execution_count": 21,
     "metadata": {},
     "output_type": "execute_result"
    }
   ],
   "source": [
    "fk(1,2,5)"
   ]
  },
  {
   "cell_type": "code",
   "execution_count": 22,
   "id": "07f46572",
   "metadata": {},
   "outputs": [
    {
     "data": {
      "text/plain": [
       "32"
      ]
     },
     "execution_count": 22,
     "metadata": {},
     "output_type": "execute_result"
    }
   ],
   "source": [
    "fk(2,7,4)"
   ]
  },
  {
   "cell_type": "code",
   "execution_count": 23,
   "id": "b1e07f6d",
   "metadata": {},
   "outputs": [],
   "source": [
    "import mod as m "
   ]
  },
  {
   "cell_type": "code",
   "execution_count": 24,
   "id": "492c9414",
   "metadata": {},
   "outputs": [
    {
     "data": {
      "text/plain": [
       "'Tutorial Modul Python'"
      ]
     },
     "execution_count": 24,
     "metadata": {},
     "output_type": "execute_result"
    }
   ],
   "source": [
    "m.s "
   ]
  },
  {
   "cell_type": "code",
   "execution_count": 25,
   "id": "9bae935f",
   "metadata": {},
   "outputs": [
    {
     "data": {
      "text/plain": [
       "[10, 20, 30, 40]"
      ]
     },
     "execution_count": 25,
     "metadata": {},
     "output_type": "execute_result"
    }
   ],
   "source": [
    "m.mylist"
   ]
  },
  {
   "cell_type": "code",
   "execution_count": 31,
   "id": "f8b3d63d",
   "metadata": {},
   "outputs": [
    {
     "name": "stdout",
     "output_type": "stream",
     "text": [
      "16\n",
      "ini menjalankan mod.py\n"
     ]
    },
    {
     "data": {
      "text/plain": [
       "<module 'mod' from 'C:\\\\Users\\\\Fatimah Zahra\\\\mod.py'>"
      ]
     },
     "execution_count": 31,
     "metadata": {},
     "output_type": "execute_result"
    }
   ],
   "source": [
    "import importlib\n",
    "\n",
    "importlib.reload(mod)"
   ]
  },
  {
   "cell_type": "markdown",
   "id": "50f0759f",
   "metadata": {},
   "source": [
    "## Package"
   ]
  },
  {
   "cell_type": "code",
   "execution_count": null,
   "id": "d0d8f9a6",
   "metadata": {},
   "outputs": [],
   "source": [
    "# Pkg adalah folder yang berisi kumpulan file modul(py)"
   ]
  },
  {
   "cell_type": "code",
   "execution_count": 1,
   "id": "a369b15a",
   "metadata": {},
   "outputs": [
    {
     "name": "stdout",
     "output_type": "stream",
     "text": [
      "16\n",
      "ini menjalankan mod.py\n"
     ]
    }
   ],
   "source": [
    "import pkg.mod"
   ]
  },
  {
   "cell_type": "code",
   "execution_count": 2,
   "id": "c92e40ec",
   "metadata": {},
   "outputs": [],
   "source": [
    "from pkg import mod"
   ]
  },
  {
   "cell_type": "code",
   "execution_count": 3,
   "id": "8e0fa1bd",
   "metadata": {},
   "outputs": [
    {
     "data": {
      "text/plain": [
       "[10, 20, 30, 40]"
      ]
     },
     "execution_count": 3,
     "metadata": {},
     "output_type": "execute_result"
    }
   ],
   "source": [
    "mod.mylist"
   ]
  }
 ],
 "metadata": {
  "kernelspec": {
   "display_name": "Python 3 (ipykernel)",
   "language": "python",
   "name": "python3"
  },
  "language_info": {
   "codemirror_mode": {
    "name": "ipython",
    "version": 3
   },
   "file_extension": ".py",
   "mimetype": "text/x-python",
   "name": "python",
   "nbconvert_exporter": "python",
   "pygments_lexer": "ipython3",
   "version": "3.9.13"
  },
  "toc": {
   "base_numbering": 1,
   "nav_menu": {},
   "number_sections": true,
   "sideBar": true,
   "skip_h1_title": false,
   "title_cell": "Table of Contents",
   "title_sidebar": "Contents",
   "toc_cell": false,
   "toc_position": {},
   "toc_section_display": true,
   "toc_window_display": false
  }
 },
 "nbformat": 4,
 "nbformat_minor": 5
}
