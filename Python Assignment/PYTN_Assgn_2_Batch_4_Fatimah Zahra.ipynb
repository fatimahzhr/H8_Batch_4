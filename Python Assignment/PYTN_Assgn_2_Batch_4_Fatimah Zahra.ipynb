{
 "cells": [
  {
   "attachments": {},
   "cell_type": "markdown",
   "metadata": {},
   "source": [
    "# Statistical Treatment for NYC Property Sales Dataset"
   ]
  },
  {
   "cell_type": "markdown",
   "metadata": {},
   "source": [
    "## Import Libraries"
   ]
  },
  {
   "cell_type": "code",
   "execution_count": 1,
   "metadata": {},
   "outputs": [],
   "source": [
    "import pandas as pd\n",
    "import numpy as np\n",
    "import matplotlib.pyplot as plt\n",
    "import seaborn as sns\n",
    "import matplotlib as mpl\n",
    "import math\n",
    "import statistics\n",
    "import scipy.stats\n",
    "import statsmodels.api as sm\n",
    "\n",
    "\n",
    "%matplotlib inline\n",
    "sns.set(style='white', context='notebook', palette='deep') \n",
    "import matplotlib.style as style\n",
    "style.use('fivethirtyeight')"
   ]
  },
  {
   "cell_type": "markdown",
   "metadata": {},
   "source": [
    "## Reading the Dataset"
   ]
  },
  {
   "cell_type": "code",
   "execution_count": 2,
   "metadata": {},
   "outputs": [],
   "source": [
    "df = pd.read_csv('nyc-rolling-sales.csv')"
   ]
  },
  {
   "cell_type": "code",
   "execution_count": 3,
   "metadata": {},
   "outputs": [
    {
     "data": {
      "text/html": [
       "<div>\n",
       "<style scoped>\n",
       "    .dataframe tbody tr th:only-of-type {\n",
       "        vertical-align: middle;\n",
       "    }\n",
       "\n",
       "    .dataframe tbody tr th {\n",
       "        vertical-align: top;\n",
       "    }\n",
       "\n",
       "    .dataframe thead th {\n",
       "        text-align: right;\n",
       "    }\n",
       "</style>\n",
       "<table border=\"1\" class=\"dataframe\">\n",
       "  <thead>\n",
       "    <tr style=\"text-align: right;\">\n",
       "      <th></th>\n",
       "      <th>Unnamed: 0</th>\n",
       "      <th>BOROUGH</th>\n",
       "      <th>NEIGHBORHOOD</th>\n",
       "      <th>BUILDING CLASS CATEGORY</th>\n",
       "      <th>TAX CLASS AT PRESENT</th>\n",
       "      <th>BLOCK</th>\n",
       "      <th>LOT</th>\n",
       "      <th>EASE-MENT</th>\n",
       "      <th>BUILDING CLASS AT PRESENT</th>\n",
       "      <th>ADDRESS</th>\n",
       "      <th>...</th>\n",
       "      <th>RESIDENTIAL UNITS</th>\n",
       "      <th>COMMERCIAL UNITS</th>\n",
       "      <th>TOTAL UNITS</th>\n",
       "      <th>LAND SQUARE FEET</th>\n",
       "      <th>GROSS SQUARE FEET</th>\n",
       "      <th>YEAR BUILT</th>\n",
       "      <th>TAX CLASS AT TIME OF SALE</th>\n",
       "      <th>BUILDING CLASS AT TIME OF SALE</th>\n",
       "      <th>SALE PRICE</th>\n",
       "      <th>SALE DATE</th>\n",
       "    </tr>\n",
       "  </thead>\n",
       "  <tbody>\n",
       "    <tr>\n",
       "      <th>0</th>\n",
       "      <td>4</td>\n",
       "      <td>1</td>\n",
       "      <td>ALPHABET CITY</td>\n",
       "      <td>07 RENTALS - WALKUP APARTMENTS</td>\n",
       "      <td>2A</td>\n",
       "      <td>392</td>\n",
       "      <td>6</td>\n",
       "      <td></td>\n",
       "      <td>C2</td>\n",
       "      <td>153 AVENUE B</td>\n",
       "      <td>...</td>\n",
       "      <td>5</td>\n",
       "      <td>0</td>\n",
       "      <td>5</td>\n",
       "      <td>1633</td>\n",
       "      <td>6440</td>\n",
       "      <td>1900</td>\n",
       "      <td>2</td>\n",
       "      <td>C2</td>\n",
       "      <td>6625000</td>\n",
       "      <td>2017-07-19 00:00:00</td>\n",
       "    </tr>\n",
       "    <tr>\n",
       "      <th>1</th>\n",
       "      <td>5</td>\n",
       "      <td>1</td>\n",
       "      <td>ALPHABET CITY</td>\n",
       "      <td>07 RENTALS - WALKUP APARTMENTS</td>\n",
       "      <td>2</td>\n",
       "      <td>399</td>\n",
       "      <td>26</td>\n",
       "      <td></td>\n",
       "      <td>C7</td>\n",
       "      <td>234 EAST 4TH   STREET</td>\n",
       "      <td>...</td>\n",
       "      <td>28</td>\n",
       "      <td>3</td>\n",
       "      <td>31</td>\n",
       "      <td>4616</td>\n",
       "      <td>18690</td>\n",
       "      <td>1900</td>\n",
       "      <td>2</td>\n",
       "      <td>C7</td>\n",
       "      <td>-</td>\n",
       "      <td>2016-12-14 00:00:00</td>\n",
       "    </tr>\n",
       "    <tr>\n",
       "      <th>2</th>\n",
       "      <td>6</td>\n",
       "      <td>1</td>\n",
       "      <td>ALPHABET CITY</td>\n",
       "      <td>07 RENTALS - WALKUP APARTMENTS</td>\n",
       "      <td>2</td>\n",
       "      <td>399</td>\n",
       "      <td>39</td>\n",
       "      <td></td>\n",
       "      <td>C7</td>\n",
       "      <td>197 EAST 3RD   STREET</td>\n",
       "      <td>...</td>\n",
       "      <td>16</td>\n",
       "      <td>1</td>\n",
       "      <td>17</td>\n",
       "      <td>2212</td>\n",
       "      <td>7803</td>\n",
       "      <td>1900</td>\n",
       "      <td>2</td>\n",
       "      <td>C7</td>\n",
       "      <td>-</td>\n",
       "      <td>2016-12-09 00:00:00</td>\n",
       "    </tr>\n",
       "    <tr>\n",
       "      <th>3</th>\n",
       "      <td>7</td>\n",
       "      <td>1</td>\n",
       "      <td>ALPHABET CITY</td>\n",
       "      <td>07 RENTALS - WALKUP APARTMENTS</td>\n",
       "      <td>2B</td>\n",
       "      <td>402</td>\n",
       "      <td>21</td>\n",
       "      <td></td>\n",
       "      <td>C4</td>\n",
       "      <td>154 EAST 7TH STREET</td>\n",
       "      <td>...</td>\n",
       "      <td>10</td>\n",
       "      <td>0</td>\n",
       "      <td>10</td>\n",
       "      <td>2272</td>\n",
       "      <td>6794</td>\n",
       "      <td>1913</td>\n",
       "      <td>2</td>\n",
       "      <td>C4</td>\n",
       "      <td>3936272</td>\n",
       "      <td>2016-09-23 00:00:00</td>\n",
       "    </tr>\n",
       "    <tr>\n",
       "      <th>4</th>\n",
       "      <td>8</td>\n",
       "      <td>1</td>\n",
       "      <td>ALPHABET CITY</td>\n",
       "      <td>07 RENTALS - WALKUP APARTMENTS</td>\n",
       "      <td>2A</td>\n",
       "      <td>404</td>\n",
       "      <td>55</td>\n",
       "      <td></td>\n",
       "      <td>C2</td>\n",
       "      <td>301 EAST 10TH   STREET</td>\n",
       "      <td>...</td>\n",
       "      <td>6</td>\n",
       "      <td>0</td>\n",
       "      <td>6</td>\n",
       "      <td>2369</td>\n",
       "      <td>4615</td>\n",
       "      <td>1900</td>\n",
       "      <td>2</td>\n",
       "      <td>C2</td>\n",
       "      <td>8000000</td>\n",
       "      <td>2016-11-17 00:00:00</td>\n",
       "    </tr>\n",
       "  </tbody>\n",
       "</table>\n",
       "<p>5 rows × 22 columns</p>\n",
       "</div>"
      ],
      "text/plain": [
       "   Unnamed: 0  BOROUGH   NEIGHBORHOOD  \\\n",
       "0           4        1  ALPHABET CITY   \n",
       "1           5        1  ALPHABET CITY   \n",
       "2           6        1  ALPHABET CITY   \n",
       "3           7        1  ALPHABET CITY   \n",
       "4           8        1  ALPHABET CITY   \n",
       "\n",
       "                       BUILDING CLASS CATEGORY TAX CLASS AT PRESENT  BLOCK  \\\n",
       "0  07 RENTALS - WALKUP APARTMENTS                                2A    392   \n",
       "1  07 RENTALS - WALKUP APARTMENTS                                 2    399   \n",
       "2  07 RENTALS - WALKUP APARTMENTS                                 2    399   \n",
       "3  07 RENTALS - WALKUP APARTMENTS                                2B    402   \n",
       "4  07 RENTALS - WALKUP APARTMENTS                                2A    404   \n",
       "\n",
       "   LOT EASE-MENT BUILDING CLASS AT PRESENT                 ADDRESS  ...  \\\n",
       "0    6                                  C2            153 AVENUE B  ...   \n",
       "1   26                                  C7   234 EAST 4TH   STREET  ...   \n",
       "2   39                                  C7   197 EAST 3RD   STREET  ...   \n",
       "3   21                                  C4     154 EAST 7TH STREET  ...   \n",
       "4   55                                  C2  301 EAST 10TH   STREET  ...   \n",
       "\n",
       "  RESIDENTIAL UNITS  COMMERCIAL UNITS  TOTAL UNITS  LAND SQUARE FEET  \\\n",
       "0                 5                 0            5              1633   \n",
       "1                28                 3           31              4616   \n",
       "2                16                 1           17              2212   \n",
       "3                10                 0           10              2272   \n",
       "4                 6                 0            6              2369   \n",
       "\n",
       "   GROSS SQUARE FEET YEAR BUILT TAX CLASS AT TIME OF SALE  \\\n",
       "0               6440       1900                         2   \n",
       "1              18690       1900                         2   \n",
       "2               7803       1900                         2   \n",
       "3               6794       1913                         2   \n",
       "4               4615       1900                         2   \n",
       "\n",
       "   BUILDING CLASS AT TIME OF SALE  SALE PRICE            SALE DATE  \n",
       "0                              C2     6625000  2017-07-19 00:00:00  \n",
       "1                              C7         -    2016-12-14 00:00:00  \n",
       "2                              C7         -    2016-12-09 00:00:00  \n",
       "3                              C4     3936272  2016-09-23 00:00:00  \n",
       "4                              C2     8000000  2016-11-17 00:00:00  \n",
       "\n",
       "[5 rows x 22 columns]"
      ]
     },
     "execution_count": 3,
     "metadata": {},
     "output_type": "execute_result"
    }
   ],
   "source": [
    "df.head()"
   ]
  },
  {
   "cell_type": "code",
   "execution_count": 4,
   "metadata": {},
   "outputs": [
    {
     "data": {
      "text/plain": [
       "(84548, 22)"
      ]
     },
     "execution_count": 4,
     "metadata": {},
     "output_type": "execute_result"
    }
   ],
   "source": [
    "df.shape"
   ]
  },
  {
   "cell_type": "code",
   "execution_count": 5,
   "metadata": {},
   "outputs": [
    {
     "name": "stdout",
     "output_type": "stream",
     "text": [
      "<class 'pandas.core.frame.DataFrame'>\n",
      "RangeIndex: 84548 entries, 0 to 84547\n",
      "Data columns (total 22 columns):\n",
      " #   Column                          Non-Null Count  Dtype \n",
      "---  ------                          --------------  ----- \n",
      " 0   Unnamed: 0                      84548 non-null  int64 \n",
      " 1   BOROUGH                         84548 non-null  int64 \n",
      " 2   NEIGHBORHOOD                    84548 non-null  object\n",
      " 3   BUILDING CLASS CATEGORY         84548 non-null  object\n",
      " 4   TAX CLASS AT PRESENT            84548 non-null  object\n",
      " 5   BLOCK                           84548 non-null  int64 \n",
      " 6   LOT                             84548 non-null  int64 \n",
      " 7   EASE-MENT                       84548 non-null  object\n",
      " 8   BUILDING CLASS AT PRESENT       84548 non-null  object\n",
      " 9   ADDRESS                         84548 non-null  object\n",
      " 10  APARTMENT NUMBER                84548 non-null  object\n",
      " 11  ZIP CODE                        84548 non-null  int64 \n",
      " 12  RESIDENTIAL UNITS               84548 non-null  int64 \n",
      " 13  COMMERCIAL UNITS                84548 non-null  int64 \n",
      " 14  TOTAL UNITS                     84548 non-null  int64 \n",
      " 15  LAND SQUARE FEET                84548 non-null  object\n",
      " 16  GROSS SQUARE FEET               84548 non-null  object\n",
      " 17  YEAR BUILT                      84548 non-null  int64 \n",
      " 18  TAX CLASS AT TIME OF SALE       84548 non-null  int64 \n",
      " 19  BUILDING CLASS AT TIME OF SALE  84548 non-null  object\n",
      " 20  SALE PRICE                      84548 non-null  object\n",
      " 21  SALE DATE                       84548 non-null  object\n",
      "dtypes: int64(10), object(12)\n",
      "memory usage: 14.2+ MB\n"
     ]
    }
   ],
   "source": [
    "df.info()"
   ]
  },
  {
   "cell_type": "markdown",
   "metadata": {},
   "source": [
    "## Data Cleaning"
   ]
  },
  {
   "cell_type": "code",
   "execution_count": 6,
   "metadata": {},
   "outputs": [],
   "source": [
    "#Dropping columns\n",
    "df.drop(['Unnamed: 0','EASE-MENT'], axis=1, inplace=True)"
   ]
  },
  {
   "cell_type": "code",
   "execution_count": 7,
   "metadata": {},
   "outputs": [],
   "source": [
    "# Replacing numeric values with BOROUGH names\n",
    "df['BOROUGH'] = df.BOROUGH.replace({1:'Manhattan', 2:'Bronx', 3:'Brooklyn', 4:'Queens', 5:'Staten Island'})"
   ]
  },
  {
   "cell_type": "code",
   "execution_count": 8,
   "metadata": {},
   "outputs": [],
   "source": [
    "# Creating year and month columns from date\n",
    "df['SALE YEAR'] = pd.DatetimeIndex(df['SALE DATE']).year\n",
    "df['SALE MONTH'] = pd.DatetimeIndex(df['SALE DATE']).month_name()"
   ]
  },
  {
   "cell_type": "code",
   "execution_count": 9,
   "metadata": {},
   "outputs": [],
   "source": [
    "# Specifying the Type of Variables\n",
    "df['SALE DATE'] = pd.to_datetime(df['SALE DATE'], errors='coerce')\n",
    "\n",
    "df['SALE PRICE'] = pd.to_numeric(df['SALE PRICE'], errors='coerce')\n",
    "\n",
    "\n",
    "df['LAND SQUARE FEET'] = pd.to_numeric(df['LAND SQUARE FEET'], errors='coerce')\n",
    "df['GROSS SQUARE FEET']= pd.to_numeric(df['GROSS SQUARE FEET'], errors='coerce')\n",
    "\n",
    "df['TAX CLASS AT TIME OF SALE'] = df['TAX CLASS AT TIME OF SALE'].astype('category')\n",
    "df['TAX CLASS AT PRESENT'] = df['TAX CLASS AT PRESENT'].astype('category')\n",
    "df['BOROUGH'] = df['BOROUGH'].astype('category')\n"
   ]
  },
  {
   "cell_type": "code",
   "execution_count": 10,
   "metadata": {},
   "outputs": [
    {
     "data": {
      "text/plain": [
       "765"
      ]
     },
     "execution_count": 10,
     "metadata": {},
     "output_type": "execute_result"
    }
   ],
   "source": [
    "# Checking for duplicated entries\n",
    "sum(df.duplicated(df.columns))"
   ]
  },
  {
   "cell_type": "code",
   "execution_count": 11,
   "metadata": {},
   "outputs": [
    {
     "data": {
      "text/plain": [
       "0"
      ]
     },
     "execution_count": 11,
     "metadata": {},
     "output_type": "execute_result"
    }
   ],
   "source": [
    "# Delete the duplicates \n",
    "df = df.drop_duplicates(df.columns, keep='last')\n",
    "sum(df.duplicated(df.columns))"
   ]
  },
  {
   "cell_type": "markdown",
   "metadata": {},
   "source": [
    "## Data Inspection & Visualization"
   ]
  },
  {
   "cell_type": "code",
   "execution_count": 12,
   "metadata": {},
   "outputs": [
    {
     "name": "stdout",
     "output_type": "stream",
     "text": [
      "<class 'pandas.core.frame.DataFrame'>\n",
      "Int64Index: 83783 entries, 0 to 84547\n",
      "Data columns (total 22 columns):\n",
      " #   Column                          Non-Null Count  Dtype         \n",
      "---  ------                          --------------  -----         \n",
      " 0   BOROUGH                         83783 non-null  category      \n",
      " 1   NEIGHBORHOOD                    83783 non-null  object        \n",
      " 2   BUILDING CLASS CATEGORY         83783 non-null  object        \n",
      " 3   TAX CLASS AT PRESENT            83783 non-null  category      \n",
      " 4   BLOCK                           83783 non-null  int64         \n",
      " 5   LOT                             83783 non-null  int64         \n",
      " 6   BUILDING CLASS AT PRESENT       83783 non-null  object        \n",
      " 7   ADDRESS                         83783 non-null  object        \n",
      " 8   APARTMENT NUMBER                83783 non-null  object        \n",
      " 9   ZIP CODE                        83783 non-null  int64         \n",
      " 10  RESIDENTIAL UNITS               83783 non-null  int64         \n",
      " 11  COMMERCIAL UNITS                83783 non-null  int64         \n",
      " 12  TOTAL UNITS                     83783 non-null  int64         \n",
      " 13  LAND SQUARE FEET                57729 non-null  float64       \n",
      " 14  GROSS SQUARE FEET               56398 non-null  float64       \n",
      " 15  YEAR BUILT                      83783 non-null  int64         \n",
      " 16  TAX CLASS AT TIME OF SALE       83783 non-null  category      \n",
      " 17  BUILDING CLASS AT TIME OF SALE  83783 non-null  object        \n",
      " 18  SALE PRICE                      69607 non-null  float64       \n",
      " 19  SALE DATE                       83783 non-null  datetime64[ns]\n",
      " 20  SALE YEAR                       83783 non-null  int64         \n",
      " 21  SALE MONTH                      83783 non-null  object        \n",
      "dtypes: category(3), datetime64[ns](1), float64(3), int64(8), object(7)\n",
      "memory usage: 13.0+ MB\n"
     ]
    }
   ],
   "source": [
    "df.info()"
   ]
  },
  {
   "cell_type": "code",
   "execution_count": 13,
   "metadata": {},
   "outputs": [
    {
     "data": {
      "text/plain": [
       "Index(['LAND SQUARE FEET', 'GROSS SQUARE FEET', 'SALE PRICE'], dtype='object')"
      ]
     },
     "execution_count": 13,
     "metadata": {},
     "output_type": "execute_result"
    }
   ],
   "source": [
    "# checking missing values\n",
    "df.columns[df.isnull().any()]"
   ]
  },
  {
   "cell_type": "code",
   "execution_count": 14,
   "metadata": {},
   "outputs": [],
   "source": [
    "# fill the missing values with mean values.\n",
    "df['LAND SQUARE FEET']=df['LAND SQUARE FEET'].fillna(df['LAND SQUARE FEET'].mean())\n",
    "df['GROSS SQUARE FEET']=df['GROSS SQUARE FEET'].fillna(df['GROSS SQUARE FEET'].mean())"
   ]
  },
  {
   "cell_type": "code",
   "execution_count": 15,
   "metadata": {},
   "outputs": [],
   "source": [
    "# Manage null values in sale price column\n",
    "data = df[df['SALE PRICE'].notnull()]"
   ]
  },
  {
   "cell_type": "code",
   "execution_count": 16,
   "metadata": {},
   "outputs": [
    {
     "name": "stdout",
     "output_type": "stream",
     "text": [
      "(69607, 22)\n"
     ]
    },
    {
     "data": {
      "text/html": [
       "<div>\n",
       "<style scoped>\n",
       "    .dataframe tbody tr th:only-of-type {\n",
       "        vertical-align: middle;\n",
       "    }\n",
       "\n",
       "    .dataframe tbody tr th {\n",
       "        vertical-align: top;\n",
       "    }\n",
       "\n",
       "    .dataframe thead th {\n",
       "        text-align: right;\n",
       "    }\n",
       "</style>\n",
       "<table border=\"1\" class=\"dataframe\">\n",
       "  <thead>\n",
       "    <tr style=\"text-align: right;\">\n",
       "      <th></th>\n",
       "      <th>BOROUGH</th>\n",
       "      <th>NEIGHBORHOOD</th>\n",
       "      <th>BUILDING CLASS CATEGORY</th>\n",
       "      <th>TAX CLASS AT PRESENT</th>\n",
       "      <th>BLOCK</th>\n",
       "      <th>LOT</th>\n",
       "      <th>BUILDING CLASS AT PRESENT</th>\n",
       "      <th>ADDRESS</th>\n",
       "      <th>APARTMENT NUMBER</th>\n",
       "      <th>ZIP CODE</th>\n",
       "      <th>...</th>\n",
       "      <th>TOTAL UNITS</th>\n",
       "      <th>LAND SQUARE FEET</th>\n",
       "      <th>GROSS SQUARE FEET</th>\n",
       "      <th>YEAR BUILT</th>\n",
       "      <th>TAX CLASS AT TIME OF SALE</th>\n",
       "      <th>BUILDING CLASS AT TIME OF SALE</th>\n",
       "      <th>SALE PRICE</th>\n",
       "      <th>SALE DATE</th>\n",
       "      <th>SALE YEAR</th>\n",
       "      <th>SALE MONTH</th>\n",
       "    </tr>\n",
       "  </thead>\n",
       "  <tbody>\n",
       "    <tr>\n",
       "      <th>0</th>\n",
       "      <td>Manhattan</td>\n",
       "      <td>ALPHABET CITY</td>\n",
       "      <td>07 RENTALS - WALKUP APARTMENTS</td>\n",
       "      <td>2A</td>\n",
       "      <td>392</td>\n",
       "      <td>6</td>\n",
       "      <td>C2</td>\n",
       "      <td>153 AVENUE B</td>\n",
       "      <td></td>\n",
       "      <td>10009</td>\n",
       "      <td>...</td>\n",
       "      <td>5</td>\n",
       "      <td>1633.000000</td>\n",
       "      <td>6440.000000</td>\n",
       "      <td>1900</td>\n",
       "      <td>2</td>\n",
       "      <td>C2</td>\n",
       "      <td>6625000.0</td>\n",
       "      <td>2017-07-19</td>\n",
       "      <td>2017</td>\n",
       "      <td>July</td>\n",
       "    </tr>\n",
       "    <tr>\n",
       "      <th>3</th>\n",
       "      <td>Manhattan</td>\n",
       "      <td>ALPHABET CITY</td>\n",
       "      <td>07 RENTALS - WALKUP APARTMENTS</td>\n",
       "      <td>2B</td>\n",
       "      <td>402</td>\n",
       "      <td>21</td>\n",
       "      <td>C4</td>\n",
       "      <td>154 EAST 7TH STREET</td>\n",
       "      <td></td>\n",
       "      <td>10009</td>\n",
       "      <td>...</td>\n",
       "      <td>10</td>\n",
       "      <td>2272.000000</td>\n",
       "      <td>6794.000000</td>\n",
       "      <td>1913</td>\n",
       "      <td>2</td>\n",
       "      <td>C4</td>\n",
       "      <td>3936272.0</td>\n",
       "      <td>2016-09-23</td>\n",
       "      <td>2016</td>\n",
       "      <td>September</td>\n",
       "    </tr>\n",
       "    <tr>\n",
       "      <th>4</th>\n",
       "      <td>Manhattan</td>\n",
       "      <td>ALPHABET CITY</td>\n",
       "      <td>07 RENTALS - WALKUP APARTMENTS</td>\n",
       "      <td>2A</td>\n",
       "      <td>404</td>\n",
       "      <td>55</td>\n",
       "      <td>C2</td>\n",
       "      <td>301 EAST 10TH   STREET</td>\n",
       "      <td></td>\n",
       "      <td>10009</td>\n",
       "      <td>...</td>\n",
       "      <td>6</td>\n",
       "      <td>2369.000000</td>\n",
       "      <td>4615.000000</td>\n",
       "      <td>1900</td>\n",
       "      <td>2</td>\n",
       "      <td>C2</td>\n",
       "      <td>8000000.0</td>\n",
       "      <td>2016-11-17</td>\n",
       "      <td>2016</td>\n",
       "      <td>November</td>\n",
       "    </tr>\n",
       "    <tr>\n",
       "      <th>6</th>\n",
       "      <td>Manhattan</td>\n",
       "      <td>ALPHABET CITY</td>\n",
       "      <td>07 RENTALS - WALKUP APARTMENTS</td>\n",
       "      <td>2B</td>\n",
       "      <td>406</td>\n",
       "      <td>32</td>\n",
       "      <td>C4</td>\n",
       "      <td>210 AVENUE B</td>\n",
       "      <td></td>\n",
       "      <td>10009</td>\n",
       "      <td>...</td>\n",
       "      <td>8</td>\n",
       "      <td>1750.000000</td>\n",
       "      <td>4226.000000</td>\n",
       "      <td>1920</td>\n",
       "      <td>2</td>\n",
       "      <td>C4</td>\n",
       "      <td>3192840.0</td>\n",
       "      <td>2016-09-23</td>\n",
       "      <td>2016</td>\n",
       "      <td>September</td>\n",
       "    </tr>\n",
       "    <tr>\n",
       "      <th>9</th>\n",
       "      <td>Manhattan</td>\n",
       "      <td>ALPHABET CITY</td>\n",
       "      <td>08 RENTALS - ELEVATOR APARTMENTS</td>\n",
       "      <td>2</td>\n",
       "      <td>387</td>\n",
       "      <td>153</td>\n",
       "      <td>D9</td>\n",
       "      <td>629 EAST 5TH STREET</td>\n",
       "      <td></td>\n",
       "      <td>10009</td>\n",
       "      <td>...</td>\n",
       "      <td>24</td>\n",
       "      <td>4489.000000</td>\n",
       "      <td>18523.000000</td>\n",
       "      <td>1920</td>\n",
       "      <td>2</td>\n",
       "      <td>D9</td>\n",
       "      <td>16232000.0</td>\n",
       "      <td>2016-11-07</td>\n",
       "      <td>2016</td>\n",
       "      <td>November</td>\n",
       "    </tr>\n",
       "    <tr>\n",
       "      <th>11</th>\n",
       "      <td>Manhattan</td>\n",
       "      <td>ALPHABET CITY</td>\n",
       "      <td>08 RENTALS - ELEVATOR APARTMENTS</td>\n",
       "      <td>2B</td>\n",
       "      <td>400</td>\n",
       "      <td>21</td>\n",
       "      <td>D1</td>\n",
       "      <td>530-532 EAST 5TH STREET</td>\n",
       "      <td></td>\n",
       "      <td>10009</td>\n",
       "      <td>...</td>\n",
       "      <td>10</td>\n",
       "      <td>3717.000000</td>\n",
       "      <td>12350.000000</td>\n",
       "      <td>2009</td>\n",
       "      <td>2</td>\n",
       "      <td>D1</td>\n",
       "      <td>10350000.0</td>\n",
       "      <td>2016-10-17</td>\n",
       "      <td>2016</td>\n",
       "      <td>October</td>\n",
       "    </tr>\n",
       "    <tr>\n",
       "      <th>12</th>\n",
       "      <td>Manhattan</td>\n",
       "      <td>ALPHABET CITY</td>\n",
       "      <td>09 COOPS - WALKUP APARTMENTS</td>\n",
       "      <td>2</td>\n",
       "      <td>373</td>\n",
       "      <td>40</td>\n",
       "      <td>C6</td>\n",
       "      <td>327 EAST 3 STREET, 1C</td>\n",
       "      <td></td>\n",
       "      <td>10009</td>\n",
       "      <td>...</td>\n",
       "      <td>0</td>\n",
       "      <td>3854.481179</td>\n",
       "      <td>3894.415813</td>\n",
       "      <td>1920</td>\n",
       "      <td>2</td>\n",
       "      <td>C6</td>\n",
       "      <td>1.0</td>\n",
       "      <td>2016-09-06</td>\n",
       "      <td>2016</td>\n",
       "      <td>September</td>\n",
       "    </tr>\n",
       "    <tr>\n",
       "      <th>13</th>\n",
       "      <td>Manhattan</td>\n",
       "      <td>ALPHABET CITY</td>\n",
       "      <td>09 COOPS - WALKUP APARTMENTS</td>\n",
       "      <td>2</td>\n",
       "      <td>373</td>\n",
       "      <td>40</td>\n",
       "      <td>C6</td>\n",
       "      <td>327 EAST 3 STREET, 1C</td>\n",
       "      <td></td>\n",
       "      <td>10009</td>\n",
       "      <td>...</td>\n",
       "      <td>0</td>\n",
       "      <td>3854.481179</td>\n",
       "      <td>3894.415813</td>\n",
       "      <td>1920</td>\n",
       "      <td>2</td>\n",
       "      <td>C6</td>\n",
       "      <td>499000.0</td>\n",
       "      <td>2017-03-10</td>\n",
       "      <td>2017</td>\n",
       "      <td>March</td>\n",
       "    </tr>\n",
       "    <tr>\n",
       "      <th>14</th>\n",
       "      <td>Manhattan</td>\n",
       "      <td>ALPHABET CITY</td>\n",
       "      <td>09 COOPS - WALKUP APARTMENTS</td>\n",
       "      <td>2</td>\n",
       "      <td>373</td>\n",
       "      <td>40</td>\n",
       "      <td>C6</td>\n",
       "      <td>327 EAST 3 STREET, 3A</td>\n",
       "      <td></td>\n",
       "      <td>10009</td>\n",
       "      <td>...</td>\n",
       "      <td>0</td>\n",
       "      <td>3854.481179</td>\n",
       "      <td>3894.415813</td>\n",
       "      <td>1920</td>\n",
       "      <td>2</td>\n",
       "      <td>C6</td>\n",
       "      <td>10.0</td>\n",
       "      <td>2017-04-28</td>\n",
       "      <td>2017</td>\n",
       "      <td>April</td>\n",
       "    </tr>\n",
       "    <tr>\n",
       "      <th>15</th>\n",
       "      <td>Manhattan</td>\n",
       "      <td>ALPHABET CITY</td>\n",
       "      <td>09 COOPS - WALKUP APARTMENTS</td>\n",
       "      <td>2</td>\n",
       "      <td>373</td>\n",
       "      <td>40</td>\n",
       "      <td>C6</td>\n",
       "      <td>327 EAST 3RD STREET, 5A</td>\n",
       "      <td></td>\n",
       "      <td>10009</td>\n",
       "      <td>...</td>\n",
       "      <td>0</td>\n",
       "      <td>3854.481179</td>\n",
       "      <td>3894.415813</td>\n",
       "      <td>1920</td>\n",
       "      <td>2</td>\n",
       "      <td>C6</td>\n",
       "      <td>529500.0</td>\n",
       "      <td>2017-06-09</td>\n",
       "      <td>2017</td>\n",
       "      <td>June</td>\n",
       "    </tr>\n",
       "  </tbody>\n",
       "</table>\n",
       "<p>10 rows × 22 columns</p>\n",
       "</div>"
      ],
      "text/plain": [
       "      BOROUGH   NEIGHBORHOOD                      BUILDING CLASS CATEGORY  \\\n",
       "0   Manhattan  ALPHABET CITY  07 RENTALS - WALKUP APARTMENTS                \n",
       "3   Manhattan  ALPHABET CITY  07 RENTALS - WALKUP APARTMENTS                \n",
       "4   Manhattan  ALPHABET CITY  07 RENTALS - WALKUP APARTMENTS                \n",
       "6   Manhattan  ALPHABET CITY  07 RENTALS - WALKUP APARTMENTS                \n",
       "9   Manhattan  ALPHABET CITY  08 RENTALS - ELEVATOR APARTMENTS              \n",
       "11  Manhattan  ALPHABET CITY  08 RENTALS - ELEVATOR APARTMENTS              \n",
       "12  Manhattan  ALPHABET CITY  09 COOPS - WALKUP APARTMENTS                  \n",
       "13  Manhattan  ALPHABET CITY  09 COOPS - WALKUP APARTMENTS                  \n",
       "14  Manhattan  ALPHABET CITY  09 COOPS - WALKUP APARTMENTS                  \n",
       "15  Manhattan  ALPHABET CITY  09 COOPS - WALKUP APARTMENTS                  \n",
       "\n",
       "   TAX CLASS AT PRESENT  BLOCK  LOT BUILDING CLASS AT PRESENT  \\\n",
       "0                    2A    392    6                        C2   \n",
       "3                    2B    402   21                        C4   \n",
       "4                    2A    404   55                        C2   \n",
       "6                    2B    406   32                        C4   \n",
       "9                     2    387  153                        D9   \n",
       "11                   2B    400   21                        D1   \n",
       "12                    2    373   40                        C6   \n",
       "13                    2    373   40                        C6   \n",
       "14                    2    373   40                        C6   \n",
       "15                    2    373   40                        C6   \n",
       "\n",
       "                    ADDRESS APARTMENT NUMBER  ZIP CODE  ...  TOTAL UNITS  \\\n",
       "0              153 AVENUE B                      10009  ...            5   \n",
       "3       154 EAST 7TH STREET                      10009  ...           10   \n",
       "4    301 EAST 10TH   STREET                      10009  ...            6   \n",
       "6              210 AVENUE B                      10009  ...            8   \n",
       "9       629 EAST 5TH STREET                      10009  ...           24   \n",
       "11  530-532 EAST 5TH STREET                      10009  ...           10   \n",
       "12    327 EAST 3 STREET, 1C                      10009  ...            0   \n",
       "13    327 EAST 3 STREET, 1C                      10009  ...            0   \n",
       "14    327 EAST 3 STREET, 3A                      10009  ...            0   \n",
       "15  327 EAST 3RD STREET, 5A                      10009  ...            0   \n",
       "\n",
       "    LAND SQUARE FEET  GROSS SQUARE FEET  YEAR BUILT  \\\n",
       "0        1633.000000        6440.000000        1900   \n",
       "3        2272.000000        6794.000000        1913   \n",
       "4        2369.000000        4615.000000        1900   \n",
       "6        1750.000000        4226.000000        1920   \n",
       "9        4489.000000       18523.000000        1920   \n",
       "11       3717.000000       12350.000000        2009   \n",
       "12       3854.481179        3894.415813        1920   \n",
       "13       3854.481179        3894.415813        1920   \n",
       "14       3854.481179        3894.415813        1920   \n",
       "15       3854.481179        3894.415813        1920   \n",
       "\n",
       "    TAX CLASS AT TIME OF SALE  BUILDING CLASS AT TIME OF SALE  SALE PRICE  \\\n",
       "0                           2                              C2   6625000.0   \n",
       "3                           2                              C4   3936272.0   \n",
       "4                           2                              C2   8000000.0   \n",
       "6                           2                              C4   3192840.0   \n",
       "9                           2                              D9  16232000.0   \n",
       "11                          2                              D1  10350000.0   \n",
       "12                          2                              C6         1.0   \n",
       "13                          2                              C6    499000.0   \n",
       "14                          2                              C6        10.0   \n",
       "15                          2                              C6    529500.0   \n",
       "\n",
       "    SALE DATE  SALE YEAR SALE MONTH  \n",
       "0  2017-07-19       2017       July  \n",
       "3  2016-09-23       2016  September  \n",
       "4  2016-11-17       2016   November  \n",
       "6  2016-09-23       2016  September  \n",
       "9  2016-11-07       2016   November  \n",
       "11 2016-10-17       2016    October  \n",
       "12 2016-09-06       2016  September  \n",
       "13 2017-03-10       2017      March  \n",
       "14 2017-04-28       2017      April  \n",
       "15 2017-06-09       2017       June  \n",
       "\n",
       "[10 rows x 22 columns]"
      ]
     },
     "execution_count": 16,
     "metadata": {},
     "output_type": "execute_result"
    }
   ],
   "source": [
    "print(data.shape)\n",
    "data.head(10)"
   ]
  },
  {
   "cell_type": "code",
   "execution_count": 17,
   "metadata": {},
   "outputs": [
    {
     "name": "stderr",
     "output_type": "stream",
     "text": [
      "/var/folders/xy/xy312wfd7rl3ln2c6qntrhdr0000gn/T/ipykernel_33129/3366757266.py:2: FutureWarning: The default value of numeric_only in DataFrame.corr is deprecated. In a future version, it will default to False. Select only valid columns or specify the value of numeric_only to silence this warning.\n",
      "  corr = data.corr()\n"
     ]
    },
    {
     "data": {
      "text/plain": [
       "Text(0.5, 1.0, 'Correlation Heatmap')"
      ]
     },
     "execution_count": 17,
     "metadata": {},
     "output_type": "execute_result"
    },
    {
     "data": {
      "image/png": "[encoded data removed]",
      "text/plain": [
       "<Figure size 1500x1000 with 2 Axes>"
      ]
     },
     "metadata": {},
     "output_type": "display_data"
    }
   ],
   "source": [
    "# correlation between the variables\n",
    "corr = data.corr()\n",
    "fig, ax = plt.subplots(figsize=(15,10))\n",
    "ax = sns.heatmap(corr, linewidth=0.3, annot=True,)\n",
    "ax.set_title('Correlation Heatmap', fontdict={'fontsize':12}, pad=12)"
   ]
  },
  {
   "cell_type": "code",
   "execution_count": 18,
   "metadata": {},
   "outputs": [
    {
     "data": {
      "text/html": [
       "<div>\n",
       "<style scoped>\n",
       "    .dataframe tbody tr th:only-of-type {\n",
       "        vertical-align: middle;\n",
       "    }\n",
       "\n",
       "    .dataframe tbody tr th {\n",
       "        vertical-align: top;\n",
       "    }\n",
       "\n",
       "    .dataframe thead th {\n",
       "        text-align: right;\n",
       "    }\n",
       "</style>\n",
       "<table border=\"1\" class=\"dataframe\">\n",
       "  <thead>\n",
       "    <tr style=\"text-align: right;\">\n",
       "      <th></th>\n",
       "      <th>BLOCK</th>\n",
       "      <th>LOT</th>\n",
       "      <th>ZIP CODE</th>\n",
       "      <th>RESIDENTIAL UNITS</th>\n",
       "      <th>COMMERCIAL UNITS</th>\n",
       "      <th>TOTAL UNITS</th>\n",
       "      <th>LAND SQUARE FEET</th>\n",
       "      <th>GROSS SQUARE FEET</th>\n",
       "      <th>YEAR BUILT</th>\n",
       "      <th>SALE PRICE</th>\n",
       "      <th>SALE YEAR</th>\n",
       "    </tr>\n",
       "  </thead>\n",
       "  <tbody>\n",
       "    <tr>\n",
       "      <th>count</th>\n",
       "      <td>69607.000000</td>\n",
       "      <td>69607.000000</td>\n",
       "      <td>69607.000000</td>\n",
       "      <td>69607.000000</td>\n",
       "      <td>69607.000000</td>\n",
       "      <td>69607.000000</td>\n",
       "      <td>6.960700e+04</td>\n",
       "      <td>6.960700e+04</td>\n",
       "      <td>69607.000000</td>\n",
       "      <td>6.960700e+04</td>\n",
       "      <td>69607.000000</td>\n",
       "    </tr>\n",
       "    <tr>\n",
       "      <th>mean</th>\n",
       "      <td>4199.890140</td>\n",
       "      <td>374.580473</td>\n",
       "      <td>10741.159323</td>\n",
       "      <td>1.875070</td>\n",
       "      <td>0.164121</td>\n",
       "      <td>2.059319</td>\n",
       "      <td>3.638934e+03</td>\n",
       "      <td>3.642753e+03</td>\n",
       "      <td>1799.852184</td>\n",
       "      <td>1.280703e+06</td>\n",
       "      <td>2016.655293</td>\n",
       "    </tr>\n",
       "    <tr>\n",
       "      <th>std</th>\n",
       "      <td>3431.897518</td>\n",
       "      <td>656.232024</td>\n",
       "      <td>1264.804508</td>\n",
       "      <td>14.291398</td>\n",
       "      <td>8.997236</td>\n",
       "      <td>16.992716</td>\n",
       "      <td>3.315376e+04</td>\n",
       "      <td>2.422798e+04</td>\n",
       "      <td>520.099311</td>\n",
       "      <td>1.143036e+07</td>\n",
       "      <td>0.475276</td>\n",
       "    </tr>\n",
       "    <tr>\n",
       "      <th>min</th>\n",
       "      <td>1.000000</td>\n",
       "      <td>1.000000</td>\n",
       "      <td>0.000000</td>\n",
       "      <td>0.000000</td>\n",
       "      <td>0.000000</td>\n",
       "      <td>0.000000</td>\n",
       "      <td>0.000000e+00</td>\n",
       "      <td>0.000000e+00</td>\n",
       "      <td>0.000000</td>\n",
       "      <td>0.000000e+00</td>\n",
       "      <td>2016.000000</td>\n",
       "    </tr>\n",
       "    <tr>\n",
       "      <th>25%</th>\n",
       "      <td>1350.000000</td>\n",
       "      <td>22.000000</td>\n",
       "      <td>10306.000000</td>\n",
       "      <td>0.000000</td>\n",
       "      <td>0.000000</td>\n",
       "      <td>0.000000</td>\n",
       "      <td>1.900000e+03</td>\n",
       "      <td>1.266000e+03</td>\n",
       "      <td>1920.000000</td>\n",
       "      <td>2.300000e+05</td>\n",
       "      <td>2016.000000</td>\n",
       "    </tr>\n",
       "    <tr>\n",
       "      <th>50%</th>\n",
       "      <td>3378.000000</td>\n",
       "      <td>50.000000</td>\n",
       "      <td>11209.000000</td>\n",
       "      <td>1.000000</td>\n",
       "      <td>0.000000</td>\n",
       "      <td>1.000000</td>\n",
       "      <td>2.945000e+03</td>\n",
       "      <td>2.400000e+03</td>\n",
       "      <td>1938.000000</td>\n",
       "      <td>5.330000e+05</td>\n",
       "      <td>2017.000000</td>\n",
       "    </tr>\n",
       "    <tr>\n",
       "      <th>75%</th>\n",
       "      <td>6192.000000</td>\n",
       "      <td>820.000000</td>\n",
       "      <td>11249.000000</td>\n",
       "      <td>2.000000</td>\n",
       "      <td>0.000000</td>\n",
       "      <td>2.000000</td>\n",
       "      <td>3.854481e+03</td>\n",
       "      <td>3.894416e+03</td>\n",
       "      <td>1965.000000</td>\n",
       "      <td>9.500000e+05</td>\n",
       "      <td>2017.000000</td>\n",
       "    </tr>\n",
       "    <tr>\n",
       "      <th>max</th>\n",
       "      <td>16319.000000</td>\n",
       "      <td>9106.000000</td>\n",
       "      <td>11694.000000</td>\n",
       "      <td>1844.000000</td>\n",
       "      <td>2261.000000</td>\n",
       "      <td>2261.000000</td>\n",
       "      <td>4.252327e+06</td>\n",
       "      <td>3.750565e+06</td>\n",
       "      <td>2017.000000</td>\n",
       "      <td>2.210000e+09</td>\n",
       "      <td>2017.000000</td>\n",
       "    </tr>\n",
       "  </tbody>\n",
       "</table>\n",
       "</div>"
      ],
      "text/plain": [
       "              BLOCK           LOT      ZIP CODE  RESIDENTIAL UNITS  \\\n",
       "count  69607.000000  69607.000000  69607.000000       69607.000000   \n",
       "mean    4199.890140    374.580473  10741.159323           1.875070   \n",
       "std     3431.897518    656.232024   1264.804508          14.291398   \n",
       "min        1.000000      1.000000      0.000000           0.000000   \n",
       "25%     1350.000000     22.000000  10306.000000           0.000000   \n",
       "50%     3378.000000     50.000000  11209.000000           1.000000   \n",
       "75%     6192.000000    820.000000  11249.000000           2.000000   \n",
       "max    16319.000000   9106.000000  11694.000000        1844.000000   \n",
       "\n",
       "       COMMERCIAL UNITS   TOTAL UNITS  LAND SQUARE FEET  GROSS SQUARE FEET  \\\n",
       "count      69607.000000  69607.000000      6.960700e+04       6.960700e+04   \n",
       "mean           0.164121      2.059319      3.638934e+03       3.642753e+03   \n",
       "std            8.997236     16.992716      3.315376e+04       2.422798e+04   \n",
       "min            0.000000      0.000000      0.000000e+00       0.000000e+00   \n",
       "25%            0.000000      0.000000      1.900000e+03       1.266000e+03   \n",
       "50%            0.000000      1.000000      2.945000e+03       2.400000e+03   \n",
       "75%            0.000000      2.000000      3.854481e+03       3.894416e+03   \n",
       "max         2261.000000   2261.000000      4.252327e+06       3.750565e+06   \n",
       "\n",
       "         YEAR BUILT    SALE PRICE     SALE YEAR  \n",
       "count  69607.000000  6.960700e+04  69607.000000  \n",
       "mean    1799.852184  1.280703e+06   2016.655293  \n",
       "std      520.099311  1.143036e+07      0.475276  \n",
       "min        0.000000  0.000000e+00   2016.000000  \n",
       "25%     1920.000000  2.300000e+05   2016.000000  \n",
       "50%     1938.000000  5.330000e+05   2017.000000  \n",
       "75%     1965.000000  9.500000e+05   2017.000000  \n",
       "max     2017.000000  2.210000e+09   2017.000000  "
      ]
     },
     "execution_count": 18,
     "metadata": {},
     "output_type": "execute_result"
    }
   ],
   "source": [
    "data.describe()"
   ]
  },
  {
   "cell_type": "markdown",
   "metadata": {},
   "source": [
    "\n",
    "**SALE PRICE**"
   ]
  },
  {
   "cell_type": "code",
   "execution_count": 19,
   "metadata": {},
   "outputs": [
    {
     "data": {
      "image/png": "[encoded data removed]",
      "text/plain": [
       "<Figure size 1500x600 with 1 Axes>"
      ]
     },
     "metadata": {},
     "output_type": "display_data"
    }
   ],
   "source": [
    "plt.figure(figsize=(15,6))\n",
    "\n",
    "sns.boxplot(x='SALE PRICE', data=data)\n",
    "plt.ticklabel_format(style='plain', axis='x')\n",
    "plt.title('Boxplot of SALE PRICE in USD')\n",
    "plt.show()"
   ]
  },
  {
   "cell_type": "code",
   "execution_count": 20,
   "metadata": {},
   "outputs": [],
   "source": [
    "# Remove observations that fall outside those caps\n",
    "data = data[(data['SALE PRICE'] > 100000) & (data['SALE PRICE'] < 5000000)]"
   ]
  },
  {
   "cell_type": "markdown",
   "metadata": {},
   "source": [
    "**GROSS SQUARE FEET**"
   ]
  },
  {
   "cell_type": "code",
   "execution_count": 21,
   "metadata": {},
   "outputs": [
    {
     "data": {
      "image/png": "[encoded data removed]",
      "text/plain": [
       "<Figure size 1000x600 with 1 Axes>"
      ]
     },
     "metadata": {},
     "output_type": "display_data"
    }
   ],
   "source": [
    "plt.figure(figsize=(10,6))\n",
    "sns.boxplot(x='GROSS SQUARE FEET', data=data, showfliers=False)\n",
    "plt.ticklabel_format(style='plain', axis='x')\n",
    "plt.title('Boxplot of Gross Square Feet')\n",
    "plt.show()"
   ]
  },
  {
   "cell_type": "markdown",
   "metadata": {},
   "source": [
    "**LAND SQUARE FEET**"
   ]
  },
  {
   "cell_type": "code",
   "execution_count": 22,
   "metadata": {},
   "outputs": [
    {
     "data": {
      "text/plain": [
       "Text(0.5, 1.0, 'Boxplot of Land Square Feet')"
      ]
     },
     "execution_count": 22,
     "metadata": {},
     "output_type": "execute_result"
    },
    {
     "data": {
      "image/png": "[encoded data removed]",
      "text/plain": [
       "<Figure size 1000x600 with 1 Axes>"
      ]
     },
     "metadata": {},
     "output_type": "display_data"
    }
   ],
   "source": [
    "plt.figure(figsize=(10,6))\n",
    "sns.boxplot(x='LAND SQUARE FEET', data=data,showfliers=False)\n",
    "plt.ticklabel_format(style='plain', axis='x')\n",
    "plt.title('Boxplot of Land Square Feet')"
   ]
  },
  {
   "cell_type": "code",
   "execution_count": 23,
   "metadata": {},
   "outputs": [],
   "source": [
    "data = data[data['GROSS SQUARE FEET'] < 10000]\n",
    "data = data[data['LAND SQUARE FEET'] < 10000]"
   ]
  },
  {
   "cell_type": "code",
   "execution_count": 24,
   "metadata": {},
   "outputs": [
    {
     "data": {
      "text/plain": [
       "(53856, 22)"
      ]
     },
     "execution_count": 24,
     "metadata": {},
     "output_type": "execute_result"
    }
   ],
   "source": [
    "data.shape"
   ]
  },
  {
   "cell_type": "markdown",
   "metadata": {},
   "source": [
    "## Measure of Central Tendency"
   ]
  },
  {
   "cell_type": "markdown",
   "metadata": {},
   "source": [
    "- ### Mean"
   ]
  },
  {
   "cell_type": "code",
   "execution_count": 25,
   "metadata": {},
   "outputs": [
    {
     "name": "stdout",
     "output_type": "stream",
     "text": [
      "Mean of Sale Price: 854328.5140745692\n",
      "Mean of Land Square Feet: 2845.4934194644343\n",
      "Mean of Gross Square Feet: 2438.183230449348\n"
     ]
    }
   ],
   "source": [
    "# Mean of Sale Price, Land and Gross Square Feet\n",
    "SalePrice_mean = np.mean(data['SALE PRICE'], axis=0)\n",
    "LandSqrFeet_mean = np.mean(data[\"LAND SQUARE FEET\"], axis=0)\n",
    "GrossSqrFeet_mean = np.mean(data[\"GROSS SQUARE FEET\"], axis=0)\n",
    "\n",
    "print(\"Mean of Sale Price:\", SalePrice_mean)\n",
    "print(\"Mean of Land Square Feet:\", LandSqrFeet_mean)\n",
    "print(\"Mean of Gross Square Feet:\", GrossSqrFeet_mean)"
   ]
  },
  {
   "cell_type": "code",
   "execution_count": 26,
   "metadata": {},
   "outputs": [
    {
     "data": {
      "text/html": [
       "<div>\n",
       "<style scoped>\n",
       "    .dataframe tbody tr th:only-of-type {\n",
       "        vertical-align: middle;\n",
       "    }\n",
       "\n",
       "    .dataframe tbody tr th {\n",
       "        vertical-align: top;\n",
       "    }\n",
       "\n",
       "    .dataframe thead th {\n",
       "        text-align: right;\n",
       "    }\n",
       "</style>\n",
       "<table border=\"1\" class=\"dataframe\">\n",
       "  <thead>\n",
       "    <tr style=\"text-align: right;\">\n",
       "      <th></th>\n",
       "      <th></th>\n",
       "      <th>TOTAL UNITS</th>\n",
       "      <th>SALE PRICE</th>\n",
       "    </tr>\n",
       "    <tr>\n",
       "      <th>SALE YEAR</th>\n",
       "      <th>SALE MONTH</th>\n",
       "      <th></th>\n",
       "      <th></th>\n",
       "    </tr>\n",
       "  </thead>\n",
       "  <tbody>\n",
       "    <tr>\n",
       "      <th rowspan=\"4\" valign=\"top\">2016</th>\n",
       "      <th>December</th>\n",
       "      <td>1.194002</td>\n",
       "      <td>821042.929679</td>\n",
       "    </tr>\n",
       "    <tr>\n",
       "      <th>November</th>\n",
       "      <td>1.153023</td>\n",
       "      <td>801429.321860</td>\n",
       "    </tr>\n",
       "    <tr>\n",
       "      <th>October</th>\n",
       "      <td>1.663443</td>\n",
       "      <td>814061.036509</td>\n",
       "    </tr>\n",
       "    <tr>\n",
       "      <th>September</th>\n",
       "      <td>1.159385</td>\n",
       "      <td>813253.666256</td>\n",
       "    </tr>\n",
       "    <tr>\n",
       "      <th rowspan=\"8\" valign=\"top\">2017</th>\n",
       "      <th>April</th>\n",
       "      <td>1.140652</td>\n",
       "      <td>857554.699776</td>\n",
       "    </tr>\n",
       "    <tr>\n",
       "      <th>August</th>\n",
       "      <td>1.017963</td>\n",
       "      <td>908109.114911</td>\n",
       "    </tr>\n",
       "    <tr>\n",
       "      <th>February</th>\n",
       "      <td>1.170272</td>\n",
       "      <td>846440.849095</td>\n",
       "    </tr>\n",
       "    <tr>\n",
       "      <th>January</th>\n",
       "      <td>1.114043</td>\n",
       "      <td>873543.082377</td>\n",
       "    </tr>\n",
       "    <tr>\n",
       "      <th>July</th>\n",
       "      <td>1.079343</td>\n",
       "      <td>902202.785797</td>\n",
       "    </tr>\n",
       "    <tr>\n",
       "      <th>June</th>\n",
       "      <td>1.091143</td>\n",
       "      <td>907824.341602</td>\n",
       "    </tr>\n",
       "    <tr>\n",
       "      <th>March</th>\n",
       "      <td>1.154265</td>\n",
       "      <td>836604.530287</td>\n",
       "    </tr>\n",
       "    <tr>\n",
       "      <th>May</th>\n",
       "      <td>1.122505</td>\n",
       "      <td>866466.604329</td>\n",
       "    </tr>\n",
       "  </tbody>\n",
       "</table>\n",
       "</div>"
      ],
      "text/plain": [
       "                      TOTAL UNITS     SALE PRICE\n",
       "SALE YEAR SALE MONTH                            \n",
       "2016      December       1.194002  821042.929679\n",
       "          November       1.153023  801429.321860\n",
       "          October        1.663443  814061.036509\n",
       "          September      1.159385  813253.666256\n",
       "2017      April          1.140652  857554.699776\n",
       "          August         1.017963  908109.114911\n",
       "          February       1.170272  846440.849095\n",
       "          January        1.114043  873543.082377\n",
       "          July           1.079343  902202.785797\n",
       "          June           1.091143  907824.341602\n",
       "          March          1.154265  836604.530287\n",
       "          May            1.122505  866466.604329"
      ]
     },
     "execution_count": 26,
     "metadata": {},
     "output_type": "execute_result"
    }
   ],
   "source": [
    "# Mean of Total Units and Sale Price per month from 2016 -  2017\n",
    "df_mean1 = data.groupby([\"SALE YEAR\", \"SALE MONTH\"])[['TOTAL UNITS', 'SALE PRICE']].mean()\n",
    "df_mean1"
   ]
  },
  {
   "cell_type": "code",
   "execution_count": 27,
   "metadata": {},
   "outputs": [
    {
     "data": {
      "text/html": [
       "<div>\n",
       "<style scoped>\n",
       "    .dataframe tbody tr th:only-of-type {\n",
       "        vertical-align: middle;\n",
       "    }\n",
       "\n",
       "    .dataframe tbody tr th {\n",
       "        vertical-align: top;\n",
       "    }\n",
       "\n",
       "    .dataframe thead th {\n",
       "        text-align: right;\n",
       "    }\n",
       "</style>\n",
       "<table border=\"1\" class=\"dataframe\">\n",
       "  <thead>\n",
       "    <tr style=\"text-align: right;\">\n",
       "      <th></th>\n",
       "      <th>TOTAL UNITS</th>\n",
       "      <th>LAND SQUARE FEET</th>\n",
       "      <th>GROSS SQUARE FEET</th>\n",
       "      <th>SALE PRICE</th>\n",
       "    </tr>\n",
       "    <tr>\n",
       "      <th>BOROUGH</th>\n",
       "      <th></th>\n",
       "      <th></th>\n",
       "      <th></th>\n",
       "      <th></th>\n",
       "    </tr>\n",
       "  </thead>\n",
       "  <tbody>\n",
       "    <tr>\n",
       "      <th>Manhattan</th>\n",
       "      <td>0.523631</td>\n",
       "      <td>3809.810511</td>\n",
       "      <td>3896.159239</td>\n",
       "      <td>1.380573e+06</td>\n",
       "    </tr>\n",
       "    <tr>\n",
       "      <th>Brooklyn</th>\n",
       "      <td>1.488089</td>\n",
       "      <td>1313.955136</td>\n",
       "      <td>1324.359608</td>\n",
       "      <td>9.738906e+05</td>\n",
       "    </tr>\n",
       "    <tr>\n",
       "      <th>Queens</th>\n",
       "      <td>1.231887</td>\n",
       "      <td>3416.163152</td>\n",
       "      <td>2666.373846</td>\n",
       "      <td>6.021809e+05</td>\n",
       "    </tr>\n",
       "    <tr>\n",
       "      <th>Staten Island</th>\n",
       "      <td>1.247703</td>\n",
       "      <td>3571.588848</td>\n",
       "      <td>2017.306941</td>\n",
       "      <td>4.836620e+05</td>\n",
       "    </tr>\n",
       "    <tr>\n",
       "      <th>Bronx</th>\n",
       "      <td>1.571687</td>\n",
       "      <td>2027.103964</td>\n",
       "      <td>1647.200680</td>\n",
       "      <td>4.518542e+05</td>\n",
       "    </tr>\n",
       "  </tbody>\n",
       "</table>\n",
       "</div>"
      ],
      "text/plain": [
       "               TOTAL UNITS  LAND SQUARE FEET  GROSS SQUARE FEET    SALE PRICE\n",
       "BOROUGH                                                                      \n",
       "Manhattan         0.523631       3809.810511        3896.159239  1.380573e+06\n",
       "Brooklyn          1.488089       1313.955136        1324.359608  9.738906e+05\n",
       "Queens            1.231887       3416.163152        2666.373846  6.021809e+05\n",
       "Staten Island     1.247703       3571.588848        2017.306941  4.836620e+05\n",
       "Bronx             1.571687       2027.103964        1647.200680  4.518542e+05"
      ]
     },
     "execution_count": 27,
     "metadata": {},
     "output_type": "execute_result"
    }
   ],
   "source": [
    "# Median of Total units, land and gross square feet, and sale price in each Borough\n",
    "df_mean2 = data.groupby([\"BOROUGH\"])[['TOTAL UNITS', 'LAND SQUARE FEET', 'GROSS SQUARE FEET', 'SALE PRICE']].mean()\n",
    "df_mean2.sort_values([\"SALE PRICE\"], ascending=False, inplace=True)\n",
    "df_mean2"
   ]
  },
  {
   "cell_type": "markdown",
   "metadata": {},
   "source": [
    "- ### Median"
   ]
  },
  {
   "cell_type": "code",
   "execution_count": 28,
   "metadata": {},
   "outputs": [
    {
     "name": "stdout",
     "output_type": "stream",
     "text": [
      "Median of Sale Price: 625000.0\n",
      "Median of Land Square Feet: 3400.0\n",
      "Median of Gross Square Feet: 2384.0\n"
     ]
    }
   ],
   "source": [
    "# Median of Sale Price, Land and Gross Square Feet\n",
    "SalePrice_median = statistics.median(data['SALE PRICE'])\n",
    "LandSqrFeet_median = statistics.median(data[\"LAND SQUARE FEET\"])\n",
    "GrossSqrFeet_median = statistics.median(data[\"GROSS SQUARE FEET\"])\n",
    "\n",
    "print(\"Median of Sale Price:\", SalePrice_median)\n",
    "print(\"Median of Land Square Feet:\", LandSqrFeet_median)\n",
    "print(\"Median of Gross Square Feet:\", GrossSqrFeet_median)"
   ]
  },
  {
   "cell_type": "code",
   "execution_count": 29,
   "metadata": {},
   "outputs": [
    {
     "data": {
      "text/html": [
       "<div>\n",
       "<style scoped>\n",
       "    .dataframe tbody tr th:only-of-type {\n",
       "        vertical-align: middle;\n",
       "    }\n",
       "\n",
       "    .dataframe tbody tr th {\n",
       "        vertical-align: top;\n",
       "    }\n",
       "\n",
       "    .dataframe thead th {\n",
       "        text-align: right;\n",
       "    }\n",
       "</style>\n",
       "<table border=\"1\" class=\"dataframe\">\n",
       "  <thead>\n",
       "    <tr style=\"text-align: right;\">\n",
       "      <th></th>\n",
       "      <th></th>\n",
       "      <th>TOTAL UNITS</th>\n",
       "      <th>SALE PRICE</th>\n",
       "    </tr>\n",
       "    <tr>\n",
       "      <th>SALE YEAR</th>\n",
       "      <th>SALE MONTH</th>\n",
       "      <th></th>\n",
       "      <th></th>\n",
       "    </tr>\n",
       "  </thead>\n",
       "  <tbody>\n",
       "    <tr>\n",
       "      <th rowspan=\"4\" valign=\"top\">2016</th>\n",
       "      <th>December</th>\n",
       "      <td>1.0</td>\n",
       "      <td>600000.0</td>\n",
       "    </tr>\n",
       "    <tr>\n",
       "      <th>November</th>\n",
       "      <td>1.0</td>\n",
       "      <td>590000.0</td>\n",
       "    </tr>\n",
       "    <tr>\n",
       "      <th>October</th>\n",
       "      <td>1.0</td>\n",
       "      <td>600000.0</td>\n",
       "    </tr>\n",
       "    <tr>\n",
       "      <th>September</th>\n",
       "      <td>1.0</td>\n",
       "      <td>599000.0</td>\n",
       "    </tr>\n",
       "    <tr>\n",
       "      <th rowspan=\"8\" valign=\"top\">2017</th>\n",
       "      <th>April</th>\n",
       "      <td>1.0</td>\n",
       "      <td>608500.0</td>\n",
       "    </tr>\n",
       "    <tr>\n",
       "      <th>August</th>\n",
       "      <td>1.0</td>\n",
       "      <td>699000.0</td>\n",
       "    </tr>\n",
       "    <tr>\n",
       "      <th>February</th>\n",
       "      <td>1.0</td>\n",
       "      <td>610000.0</td>\n",
       "    </tr>\n",
       "    <tr>\n",
       "      <th>January</th>\n",
       "      <td>1.0</td>\n",
       "      <td>628000.0</td>\n",
       "    </tr>\n",
       "    <tr>\n",
       "      <th>July</th>\n",
       "      <td>1.0</td>\n",
       "      <td>670000.0</td>\n",
       "    </tr>\n",
       "    <tr>\n",
       "      <th>June</th>\n",
       "      <td>1.0</td>\n",
       "      <td>660315.0</td>\n",
       "    </tr>\n",
       "    <tr>\n",
       "      <th>March</th>\n",
       "      <td>1.0</td>\n",
       "      <td>600000.0</td>\n",
       "    </tr>\n",
       "    <tr>\n",
       "      <th>May</th>\n",
       "      <td>1.0</td>\n",
       "      <td>642500.0</td>\n",
       "    </tr>\n",
       "  </tbody>\n",
       "</table>\n",
       "</div>"
      ],
      "text/plain": [
       "                      TOTAL UNITS  SALE PRICE\n",
       "SALE YEAR SALE MONTH                         \n",
       "2016      December            1.0    600000.0\n",
       "          November            1.0    590000.0\n",
       "          October             1.0    600000.0\n",
       "          September           1.0    599000.0\n",
       "2017      April               1.0    608500.0\n",
       "          August              1.0    699000.0\n",
       "          February            1.0    610000.0\n",
       "          January             1.0    628000.0\n",
       "          July                1.0    670000.0\n",
       "          June                1.0    660315.0\n",
       "          March               1.0    600000.0\n",
       "          May                 1.0    642500.0"
      ]
     },
     "execution_count": 29,
     "metadata": {},
     "output_type": "execute_result"
    }
   ],
   "source": [
    "# Median of Total Units and Sale Price per month from 2016 -  2017\n",
    "df_median1 = data.groupby([\"SALE YEAR\", \"SALE MONTH\"])[['TOTAL UNITS', 'SALE PRICE']].median()\n",
    "df_median1"
   ]
  },
  {
   "cell_type": "code",
   "execution_count": 30,
   "metadata": {},
   "outputs": [
    {
     "data": {
      "text/html": [
       "<div>\n",
       "<style scoped>\n",
       "    .dataframe tbody tr th:only-of-type {\n",
       "        vertical-align: middle;\n",
       "    }\n",
       "\n",
       "    .dataframe tbody tr th {\n",
       "        vertical-align: top;\n",
       "    }\n",
       "\n",
       "    .dataframe thead th {\n",
       "        text-align: right;\n",
       "    }\n",
       "</style>\n",
       "<table border=\"1\" class=\"dataframe\">\n",
       "  <thead>\n",
       "    <tr style=\"text-align: right;\">\n",
       "      <th></th>\n",
       "      <th>TOTAL UNITS</th>\n",
       "      <th>LAND SQUARE FEET</th>\n",
       "      <th>GROSS SQUARE FEET</th>\n",
       "      <th>SALE PRICE</th>\n",
       "    </tr>\n",
       "    <tr>\n",
       "      <th>BOROUGH</th>\n",
       "      <th></th>\n",
       "      <th></th>\n",
       "      <th></th>\n",
       "      <th></th>\n",
       "    </tr>\n",
       "  </thead>\n",
       "  <tbody>\n",
       "    <tr>\n",
       "      <th>Manhattan</th>\n",
       "      <td>0.0</td>\n",
       "      <td>3854.481179</td>\n",
       "      <td>3894.415813</td>\n",
       "      <td>998500.0</td>\n",
       "    </tr>\n",
       "    <tr>\n",
       "      <th>Brooklyn</th>\n",
       "      <td>1.0</td>\n",
       "      <td>1600.000000</td>\n",
       "      <td>1166.000000</td>\n",
       "      <td>775000.0</td>\n",
       "    </tr>\n",
       "    <tr>\n",
       "      <th>Queens</th>\n",
       "      <td>1.0</td>\n",
       "      <td>3854.481179</td>\n",
       "      <td>2440.000000</td>\n",
       "      <td>505000.0</td>\n",
       "    </tr>\n",
       "    <tr>\n",
       "      <th>Staten Island</th>\n",
       "      <td>1.0</td>\n",
       "      <td>3750.000000</td>\n",
       "      <td>1678.000000</td>\n",
       "      <td>465426.0</td>\n",
       "    </tr>\n",
       "    <tr>\n",
       "      <th>Bronx</th>\n",
       "      <td>1.0</td>\n",
       "      <td>2185.000000</td>\n",
       "      <td>1665.000000</td>\n",
       "      <td>410000.0</td>\n",
       "    </tr>\n",
       "  </tbody>\n",
       "</table>\n",
       "</div>"
      ],
      "text/plain": [
       "               TOTAL UNITS  LAND SQUARE FEET  GROSS SQUARE FEET  SALE PRICE\n",
       "BOROUGH                                                                    \n",
       "Manhattan              0.0       3854.481179        3894.415813    998500.0\n",
       "Brooklyn               1.0       1600.000000        1166.000000    775000.0\n",
       "Queens                 1.0       3854.481179        2440.000000    505000.0\n",
       "Staten Island          1.0       3750.000000        1678.000000    465426.0\n",
       "Bronx                  1.0       2185.000000        1665.000000    410000.0"
      ]
     },
     "execution_count": 30,
     "metadata": {},
     "output_type": "execute_result"
    }
   ],
   "source": [
    "# Median of Total units, land and gross square feet, and sale price in each borough\n",
    "df_median2 = data.groupby([\"BOROUGH\"])[['TOTAL UNITS', 'LAND SQUARE FEET', 'GROSS SQUARE FEET', 'SALE PRICE']].median()\n",
    "df_median2.sort_values([\"SALE PRICE\"], ascending=False, inplace=True)\n",
    "df_median2\n"
   ]
  },
  {
   "cell_type": "markdown",
   "metadata": {},
   "source": [
    "- ### Mode"
   ]
  },
  {
   "cell_type": "code",
   "execution_count": 31,
   "metadata": {},
   "outputs": [
    {
     "data": {
      "text/html": [
       "<div>\n",
       "<style scoped>\n",
       "    .dataframe tbody tr th:only-of-type {\n",
       "        vertical-align: middle;\n",
       "    }\n",
       "\n",
       "    .dataframe tbody tr th {\n",
       "        vertical-align: top;\n",
       "    }\n",
       "\n",
       "    .dataframe thead th {\n",
       "        text-align: right;\n",
       "    }\n",
       "</style>\n",
       "<table border=\"1\" class=\"dataframe\">\n",
       "  <thead>\n",
       "    <tr style=\"text-align: right;\">\n",
       "      <th></th>\n",
       "      <th>BOROUGH</th>\n",
       "      <th>NEIGHBORHOOD</th>\n",
       "      <th>BUILDING CLASS CATEGORY</th>\n",
       "      <th>TAX CLASS AT PRESENT</th>\n",
       "      <th>BLOCK</th>\n",
       "      <th>LOT</th>\n",
       "      <th>BUILDING CLASS AT PRESENT</th>\n",
       "      <th>ADDRESS</th>\n",
       "      <th>APARTMENT NUMBER</th>\n",
       "      <th>ZIP CODE</th>\n",
       "      <th>...</th>\n",
       "      <th>TOTAL UNITS</th>\n",
       "      <th>LAND SQUARE FEET</th>\n",
       "      <th>GROSS SQUARE FEET</th>\n",
       "      <th>YEAR BUILT</th>\n",
       "      <th>TAX CLASS AT TIME OF SALE</th>\n",
       "      <th>BUILDING CLASS AT TIME OF SALE</th>\n",
       "      <th>SALE PRICE</th>\n",
       "      <th>SALE DATE</th>\n",
       "      <th>SALE YEAR</th>\n",
       "      <th>SALE MONTH</th>\n",
       "    </tr>\n",
       "  </thead>\n",
       "  <tbody>\n",
       "    <tr>\n",
       "      <th>0</th>\n",
       "      <td>Queens</td>\n",
       "      <td>FLUSHING-NORTH</td>\n",
       "      <td>01 ONE FAMILY DWELLINGS</td>\n",
       "      <td>1</td>\n",
       "      <td>5066</td>\n",
       "      <td>1</td>\n",
       "      <td>D4</td>\n",
       "      <td>131-05 40TH   ROAD</td>\n",
       "      <td></td>\n",
       "      <td>10314</td>\n",
       "      <td>...</td>\n",
       "      <td>1</td>\n",
       "      <td>3854.481179</td>\n",
       "      <td>3894.415813</td>\n",
       "      <td>1920</td>\n",
       "      <td>2</td>\n",
       "      <td>D4</td>\n",
       "      <td>450000.0</td>\n",
       "      <td>2017-06-29</td>\n",
       "      <td>2017</td>\n",
       "      <td>June</td>\n",
       "    </tr>\n",
       "  </tbody>\n",
       "</table>\n",
       "<p>1 rows × 22 columns</p>\n",
       "</div>"
      ],
      "text/plain": [
       "  BOROUGH    NEIGHBORHOOD                      BUILDING CLASS CATEGORY  \\\n",
       "0  Queens  FLUSHING-NORTH  01 ONE FAMILY DWELLINGS                       \n",
       "\n",
       "  TAX CLASS AT PRESENT  BLOCK  LOT BUILDING CLASS AT PRESENT  \\\n",
       "0                    1   5066    1                        D4   \n",
       "\n",
       "              ADDRESS APARTMENT NUMBER  ZIP CODE  ...  TOTAL UNITS  \\\n",
       "0  131-05 40TH   ROAD                      10314  ...            1   \n",
       "\n",
       "   LAND SQUARE FEET  GROSS SQUARE FEET  YEAR BUILT  TAX CLASS AT TIME OF SALE  \\\n",
       "0       3854.481179        3894.415813        1920                          2   \n",
       "\n",
       "   BUILDING CLASS AT TIME OF SALE SALE PRICE  SALE DATE  SALE YEAR SALE MONTH  \n",
       "0                              D4   450000.0 2017-06-29       2017       June  \n",
       "\n",
       "[1 rows x 22 columns]"
      ]
     },
     "execution_count": 31,
     "metadata": {},
     "output_type": "execute_result"
    }
   ],
   "source": [
    "# Mode of all features\n",
    "pd.DataFrame(data).mode()"
   ]
  },
  {
   "cell_type": "markdown",
   "metadata": {},
   "source": [
    "## Measure of Spead"
   ]
  },
  {
   "cell_type": "markdown",
   "metadata": {},
   "source": [
    "- ### Range"
   ]
  },
  {
   "cell_type": "code",
   "execution_count": 32,
   "metadata": {},
   "outputs": [
    {
     "name": "stdout",
     "output_type": "stream",
     "text": [
      "Range of Sale Price: 4896506.0\n",
      "Range of Land Square Feet: 9996.0\n",
      "Range of Gross Square Feet: 9926.0\n"
     ]
    }
   ],
   "source": [
    "# Range of Sale Price, Land and Gross Square Feet\n",
    "SalePrice_range = np.ptp(data['SALE PRICE'])\n",
    "LandSqrFeet_range = np.ptp(data[\"LAND SQUARE FEET\"])\n",
    "GrossSqrFeet_range = np.ptp(data[\"GROSS SQUARE FEET\"])\n",
    "\n",
    "print(\"Range of Sale Price:\", SalePrice_range)\n",
    "print(\"Range of Land Square Feet:\", LandSqrFeet_range)\n",
    "print(\"Range of Gross Square Feet:\", GrossSqrFeet_range)"
   ]
  },
  {
   "cell_type": "markdown",
   "metadata": {},
   "source": [
    "- ### Variance "
   ]
  },
  {
   "cell_type": "code",
   "execution_count": 33,
   "metadata": {},
   "outputs": [
    {
     "name": "stdout",
     "output_type": "stream",
     "text": [
      "variance of Sale Price: 574371544367.3818\n",
      "variance of Land Square Feet: 2485824.8069760115\n",
      "variance of Gross Square Feet: 2316348.2062864993\n"
     ]
    }
   ],
   "source": [
    "# Variance of Sale Price, Land and Gross Square Feet\n",
    "SalePrice_var = statistics.variance(data['SALE PRICE'])\n",
    "LandSqrFeet_var = statistics.variance(data[\"LAND SQUARE FEET\"])\n",
    "GrossSqrFeet_var = statistics.variance(data[\"GROSS SQUARE FEET\"])\n",
    "\n",
    "print(\"variance of Sale Price:\", SalePrice_var)\n",
    "print(\"variance of Land Square Feet:\", LandSqrFeet_var)\n",
    "print(\"variance of Gross Square Feet:\", GrossSqrFeet_var)"
   ]
  },
  {
   "cell_type": "code",
   "execution_count": 34,
   "metadata": {},
   "outputs": [
    {
     "data": {
      "text/html": [
       "<div>\n",
       "<style scoped>\n",
       "    .dataframe tbody tr th:only-of-type {\n",
       "        vertical-align: middle;\n",
       "    }\n",
       "\n",
       "    .dataframe tbody tr th {\n",
       "        vertical-align: top;\n",
       "    }\n",
       "\n",
       "    .dataframe thead th {\n",
       "        text-align: right;\n",
       "    }\n",
       "</style>\n",
       "<table border=\"1\" class=\"dataframe\">\n",
       "  <thead>\n",
       "    <tr style=\"text-align: right;\">\n",
       "      <th></th>\n",
       "      <th></th>\n",
       "      <th>TOTAL UNITS</th>\n",
       "      <th>SALE PRICE</th>\n",
       "    </tr>\n",
       "    <tr>\n",
       "      <th>SALE YEAR</th>\n",
       "      <th>SALE MONTH</th>\n",
       "      <th></th>\n",
       "      <th></th>\n",
       "    </tr>\n",
       "  </thead>\n",
       "  <tbody>\n",
       "    <tr>\n",
       "      <th rowspan=\"4\" valign=\"top\">2016</th>\n",
       "      <th>December</th>\n",
       "      <td>1.675223</td>\n",
       "      <td>5.394092e+11</td>\n",
       "    </tr>\n",
       "    <tr>\n",
       "      <th>November</th>\n",
       "      <td>1.480184</td>\n",
       "      <td>5.150288e+11</td>\n",
       "    </tr>\n",
       "    <tr>\n",
       "      <th>October</th>\n",
       "      <td>1236.123703</td>\n",
       "      <td>5.280526e+11</td>\n",
       "    </tr>\n",
       "    <tr>\n",
       "      <th>September</th>\n",
       "      <td>1.523422</td>\n",
       "      <td>5.430001e+11</td>\n",
       "    </tr>\n",
       "    <tr>\n",
       "      <th rowspan=\"8\" valign=\"top\">2017</th>\n",
       "      <th>April</th>\n",
       "      <td>1.190620</td>\n",
       "      <td>6.309503e+11</td>\n",
       "    </tr>\n",
       "    <tr>\n",
       "      <th>August</th>\n",
       "      <td>1.559362</td>\n",
       "      <td>5.898861e+11</td>\n",
       "    </tr>\n",
       "    <tr>\n",
       "      <th>February</th>\n",
       "      <td>1.646724</td>\n",
       "      <td>5.788102e+11</td>\n",
       "    </tr>\n",
       "    <tr>\n",
       "      <th>January</th>\n",
       "      <td>1.251852</td>\n",
       "      <td>6.176578e+11</td>\n",
       "    </tr>\n",
       "    <tr>\n",
       "      <th>July</th>\n",
       "      <td>1.329890</td>\n",
       "      <td>5.863850e+11</td>\n",
       "    </tr>\n",
       "    <tr>\n",
       "      <th>June</th>\n",
       "      <td>1.397683</td>\n",
       "      <td>6.131077e+11</td>\n",
       "    </tr>\n",
       "    <tr>\n",
       "      <th>March</th>\n",
       "      <td>1.366554</td>\n",
       "      <td>5.815596e+11</td>\n",
       "    </tr>\n",
       "    <tr>\n",
       "      <th>May</th>\n",
       "      <td>1.443796</td>\n",
       "      <td>5.549829e+11</td>\n",
       "    </tr>\n",
       "  </tbody>\n",
       "</table>\n",
       "</div>"
      ],
      "text/plain": [
       "                      TOTAL UNITS    SALE PRICE\n",
       "SALE YEAR SALE MONTH                           \n",
       "2016      December       1.675223  5.394092e+11\n",
       "          November       1.480184  5.150288e+11\n",
       "          October     1236.123703  5.280526e+11\n",
       "          September      1.523422  5.430001e+11\n",
       "2017      April          1.190620  6.309503e+11\n",
       "          August         1.559362  5.898861e+11\n",
       "          February       1.646724  5.788102e+11\n",
       "          January        1.251852  6.176578e+11\n",
       "          July           1.329890  5.863850e+11\n",
       "          June           1.397683  6.131077e+11\n",
       "          March          1.366554  5.815596e+11\n",
       "          May            1.443796  5.549829e+11"
      ]
     },
     "execution_count": 34,
     "metadata": {},
     "output_type": "execute_result"
    }
   ],
   "source": [
    "# variance of Total Units and Sale Price per month from 2016 -  2017\n",
    "df_var1 = data.groupby([\"SALE YEAR\", \"SALE MONTH\"])[['TOTAL UNITS', 'SALE PRICE']].var()\n",
    "df_var1"
   ]
  },
  {
   "cell_type": "code",
   "execution_count": 35,
   "metadata": {},
   "outputs": [
    {
     "data": {
      "text/html": [
       "<div>\n",
       "<style scoped>\n",
       "    .dataframe tbody tr th:only-of-type {\n",
       "        vertical-align: middle;\n",
       "    }\n",
       "\n",
       "    .dataframe tbody tr th {\n",
       "        vertical-align: top;\n",
       "    }\n",
       "\n",
       "    .dataframe thead th {\n",
       "        text-align: right;\n",
       "    }\n",
       "</style>\n",
       "<table border=\"1\" class=\"dataframe\">\n",
       "  <thead>\n",
       "    <tr style=\"text-align: right;\">\n",
       "      <th></th>\n",
       "      <th>TOTAL UNITS</th>\n",
       "      <th>LAND SQUARE FEET</th>\n",
       "      <th>GROSS SQUARE FEET</th>\n",
       "      <th>SALE PRICE</th>\n",
       "    </tr>\n",
       "    <tr>\n",
       "      <th>BOROUGH</th>\n",
       "      <th></th>\n",
       "      <th></th>\n",
       "      <th></th>\n",
       "      <th></th>\n",
       "    </tr>\n",
       "  </thead>\n",
       "  <tbody>\n",
       "    <tr>\n",
       "      <th>Manhattan</th>\n",
       "      <td>0.948727</td>\n",
       "      <td>1.008394e+05</td>\n",
       "      <td>6.704443e+04</td>\n",
       "      <td>1.057040e+12</td>\n",
       "    </tr>\n",
       "    <tr>\n",
       "      <th>Brooklyn</th>\n",
       "      <td>1.959280</td>\n",
       "      <td>1.928605e+06</td>\n",
       "      <td>2.340782e+06</td>\n",
       "      <td>5.521584e+11</td>\n",
       "    </tr>\n",
       "    <tr>\n",
       "      <th>Queens</th>\n",
       "      <td>295.434639</td>\n",
       "      <td>1.195218e+06</td>\n",
       "      <td>1.513293e+06</td>\n",
       "      <td>1.811692e+11</td>\n",
       "    </tr>\n",
       "    <tr>\n",
       "      <th>Bronx</th>\n",
       "      <td>2.172873</td>\n",
       "      <td>2.782941e+06</td>\n",
       "      <td>2.173588e+06</td>\n",
       "      <td>1.083198e+11</td>\n",
       "    </tr>\n",
       "    <tr>\n",
       "      <th>Staten Island</th>\n",
       "      <td>0.424572</td>\n",
       "      <td>2.795339e+06</td>\n",
       "      <td>1.073571e+06</td>\n",
       "      <td>4.568666e+10</td>\n",
       "    </tr>\n",
       "  </tbody>\n",
       "</table>\n",
       "</div>"
      ],
      "text/plain": [
       "               TOTAL UNITS  LAND SQUARE FEET  GROSS SQUARE FEET    SALE PRICE\n",
       "BOROUGH                                                                      \n",
       "Manhattan         0.948727      1.008394e+05       6.704443e+04  1.057040e+12\n",
       "Brooklyn          1.959280      1.928605e+06       2.340782e+06  5.521584e+11\n",
       "Queens          295.434639      1.195218e+06       1.513293e+06  1.811692e+11\n",
       "Bronx             2.172873      2.782941e+06       2.173588e+06  1.083198e+11\n",
       "Staten Island     0.424572      2.795339e+06       1.073571e+06  4.568666e+10"
      ]
     },
     "execution_count": 35,
     "metadata": {},
     "output_type": "execute_result"
    }
   ],
   "source": [
    "# Variance of Total units, land and gross square feet, and sale price in each borough\n",
    "df_var2 = data.groupby([\"BOROUGH\"])[['TOTAL UNITS', 'LAND SQUARE FEET', 'GROSS SQUARE FEET', 'SALE PRICE']].var()\n",
    "df_var2.sort_values([\"SALE PRICE\"], ascending=False, inplace=True)\n",
    "df_var2"
   ]
  },
  {
   "cell_type": "markdown",
   "metadata": {},
   "source": [
    "- ### Standard Deviation"
   ]
  },
  {
   "cell_type": "code",
   "execution_count": 36,
   "metadata": {},
   "outputs": [
    {
     "name": "stdout",
     "output_type": "stream",
     "text": [
      "Standard Deviation of Sale Price: 757866.0036031663\n",
      "Standard Deviation of Land Square Feet: 1576.6352305141106\n",
      "Standard Deviation of Gross Square Feet: 1521.9412591345078\n"
     ]
    }
   ],
   "source": [
    "# Standard Deviation of Sale Price, Land and Gross Square Feet\n",
    "SalePrice_std = np.std(data['SALE PRICE'])\n",
    "LandSqrFeet_std = np.std(data[\"LAND SQUARE FEET\"])\n",
    "GrossSqrFeet_std = np.std(data[\"GROSS SQUARE FEET\"])\n",
    "\n",
    "print(\"Standard Deviation of Sale Price:\", SalePrice_std)\n",
    "print(\"Standard Deviation of Land Square Feet:\", LandSqrFeet_std)\n",
    "print(\"Standard Deviation of Gross Square Feet:\", GrossSqrFeet_std)"
   ]
  },
  {
   "cell_type": "code",
   "execution_count": 37,
   "metadata": {},
   "outputs": [
    {
     "data": {
      "text/html": [
       "<div>\n",
       "<style scoped>\n",
       "    .dataframe tbody tr th:only-of-type {\n",
       "        vertical-align: middle;\n",
       "    }\n",
       "\n",
       "    .dataframe tbody tr th {\n",
       "        vertical-align: top;\n",
       "    }\n",
       "\n",
       "    .dataframe thead th {\n",
       "        text-align: right;\n",
       "    }\n",
       "</style>\n",
       "<table border=\"1\" class=\"dataframe\">\n",
       "  <thead>\n",
       "    <tr style=\"text-align: right;\">\n",
       "      <th></th>\n",
       "      <th></th>\n",
       "      <th>TOTAL UNITS</th>\n",
       "      <th>SALE PRICE</th>\n",
       "    </tr>\n",
       "    <tr>\n",
       "      <th>SALE YEAR</th>\n",
       "      <th>SALE MONTH</th>\n",
       "      <th></th>\n",
       "      <th></th>\n",
       "    </tr>\n",
       "  </thead>\n",
       "  <tbody>\n",
       "    <tr>\n",
       "      <th rowspan=\"4\" valign=\"top\">2016</th>\n",
       "      <th>December</th>\n",
       "      <td>1.294304</td>\n",
       "      <td>734444.817965</td>\n",
       "    </tr>\n",
       "    <tr>\n",
       "      <th>November</th>\n",
       "      <td>1.216628</td>\n",
       "      <td>717655.058768</td>\n",
       "    </tr>\n",
       "    <tr>\n",
       "      <th>October</th>\n",
       "      <td>35.158551</td>\n",
       "      <td>726672.276028</td>\n",
       "    </tr>\n",
       "    <tr>\n",
       "      <th>September</th>\n",
       "      <td>1.234270</td>\n",
       "      <td>736885.407794</td>\n",
       "    </tr>\n",
       "    <tr>\n",
       "      <th rowspan=\"8\" valign=\"top\">2017</th>\n",
       "      <th>April</th>\n",
       "      <td>1.091156</td>\n",
       "      <td>794323.772349</td>\n",
       "    </tr>\n",
       "    <tr>\n",
       "      <th>August</th>\n",
       "      <td>1.248744</td>\n",
       "      <td>768040.401512</td>\n",
       "    </tr>\n",
       "    <tr>\n",
       "      <th>February</th>\n",
       "      <td>1.283247</td>\n",
       "      <td>760795.754326</td>\n",
       "    </tr>\n",
       "    <tr>\n",
       "      <th>January</th>\n",
       "      <td>1.118862</td>\n",
       "      <td>785912.084681</td>\n",
       "    </tr>\n",
       "    <tr>\n",
       "      <th>July</th>\n",
       "      <td>1.153209</td>\n",
       "      <td>765757.793470</td>\n",
       "    </tr>\n",
       "    <tr>\n",
       "      <th>June</th>\n",
       "      <td>1.182236</td>\n",
       "      <td>783011.922963</td>\n",
       "    </tr>\n",
       "    <tr>\n",
       "      <th>March</th>\n",
       "      <td>1.168997</td>\n",
       "      <td>762600.521484</td>\n",
       "    </tr>\n",
       "    <tr>\n",
       "      <th>May</th>\n",
       "      <td>1.201580</td>\n",
       "      <td>744971.740187</td>\n",
       "    </tr>\n",
       "  </tbody>\n",
       "</table>\n",
       "</div>"
      ],
      "text/plain": [
       "                      TOTAL UNITS     SALE PRICE\n",
       "SALE YEAR SALE MONTH                            \n",
       "2016      December       1.294304  734444.817965\n",
       "          November       1.216628  717655.058768\n",
       "          October       35.158551  726672.276028\n",
       "          September      1.234270  736885.407794\n",
       "2017      April          1.091156  794323.772349\n",
       "          August         1.248744  768040.401512\n",
       "          February       1.283247  760795.754326\n",
       "          January        1.118862  785912.084681\n",
       "          July           1.153209  765757.793470\n",
       "          June           1.182236  783011.922963\n",
       "          March          1.168997  762600.521484\n",
       "          May            1.201580  744971.740187"
      ]
     },
     "execution_count": 37,
     "metadata": {},
     "output_type": "execute_result"
    }
   ],
   "source": [
    "# Standard deviation of Total Units and Sale Price per month from 2016 -  2017\n",
    "df_std1 = data.groupby([\"SALE YEAR\", \"SALE MONTH\"])[['TOTAL UNITS', 'SALE PRICE']].std()\n",
    "df_std1"
   ]
  },
  {
   "cell_type": "code",
   "execution_count": 38,
   "metadata": {},
   "outputs": [
    {
     "data": {
      "text/html": [
       "<div>\n",
       "<style scoped>\n",
       "    .dataframe tbody tr th:only-of-type {\n",
       "        vertical-align: middle;\n",
       "    }\n",
       "\n",
       "    .dataframe tbody tr th {\n",
       "        vertical-align: top;\n",
       "    }\n",
       "\n",
       "    .dataframe thead th {\n",
       "        text-align: right;\n",
       "    }\n",
       "</style>\n",
       "<table border=\"1\" class=\"dataframe\">\n",
       "  <thead>\n",
       "    <tr style=\"text-align: right;\">\n",
       "      <th></th>\n",
       "      <th>TOTAL UNITS</th>\n",
       "      <th>LAND SQUARE FEET</th>\n",
       "      <th>GROSS SQUARE FEET</th>\n",
       "      <th>SALE PRICE</th>\n",
       "    </tr>\n",
       "    <tr>\n",
       "      <th>BOROUGH</th>\n",
       "      <th></th>\n",
       "      <th></th>\n",
       "      <th></th>\n",
       "      <th></th>\n",
       "    </tr>\n",
       "  </thead>\n",
       "  <tbody>\n",
       "    <tr>\n",
       "      <th>Manhattan</th>\n",
       "      <td>0.974026</td>\n",
       "      <td>317.552226</td>\n",
       "      <td>258.929393</td>\n",
       "      <td>1.028125e+06</td>\n",
       "    </tr>\n",
       "    <tr>\n",
       "      <th>Brooklyn</th>\n",
       "      <td>1.399743</td>\n",
       "      <td>1388.742374</td>\n",
       "      <td>1529.961288</td>\n",
       "      <td>7.430736e+05</td>\n",
       "    </tr>\n",
       "    <tr>\n",
       "      <th>Queens</th>\n",
       "      <td>17.188212</td>\n",
       "      <td>1093.260266</td>\n",
       "      <td>1230.159755</td>\n",
       "      <td>4.256398e+05</td>\n",
       "    </tr>\n",
       "    <tr>\n",
       "      <th>Bronx</th>\n",
       "      <td>1.474067</td>\n",
       "      <td>1668.215037</td>\n",
       "      <td>1474.309403</td>\n",
       "      <td>3.291198e+05</td>\n",
       "    </tr>\n",
       "    <tr>\n",
       "      <th>Staten Island</th>\n",
       "      <td>0.651592</td>\n",
       "      <td>1671.926611</td>\n",
       "      <td>1036.132843</td>\n",
       "      <td>2.137444e+05</td>\n",
       "    </tr>\n",
       "  </tbody>\n",
       "</table>\n",
       "</div>"
      ],
      "text/plain": [
       "               TOTAL UNITS  LAND SQUARE FEET  GROSS SQUARE FEET    SALE PRICE\n",
       "BOROUGH                                                                      \n",
       "Manhattan         0.974026        317.552226         258.929393  1.028125e+06\n",
       "Brooklyn          1.399743       1388.742374        1529.961288  7.430736e+05\n",
       "Queens           17.188212       1093.260266        1230.159755  4.256398e+05\n",
       "Bronx             1.474067       1668.215037        1474.309403  3.291198e+05\n",
       "Staten Island     0.651592       1671.926611        1036.132843  2.137444e+05"
      ]
     },
     "execution_count": 38,
     "metadata": {},
     "output_type": "execute_result"
    }
   ],
   "source": [
    "# Standard deviation of Total units, land and gross square feet, and sale price in each borough\n",
    "df_std2 = data.groupby([\"BOROUGH\"])[['TOTAL UNITS', 'LAND SQUARE FEET', 'GROSS SQUARE FEET', 'SALE PRICE']].std()\n",
    "df_std2.sort_values([\"SALE PRICE\"], ascending=False, inplace=True)\n",
    "df_std2"
   ]
  },
  {
   "cell_type": "markdown",
   "metadata": {},
   "source": [
    "## Probability Distribution"
   ]
  },
  {
   "cell_type": "code",
   "execution_count": 39,
   "metadata": {},
   "outputs": [
    {
     "name": "stderr",
     "output_type": "stream",
     "text": [
      "/var/folders/xy/xy312wfd7rl3ln2c6qntrhdr0000gn/T/ipykernel_33129/794849085.py:2: UserWarning: \n",
      "\n",
      "`distplot` is a deprecated function and will be removed in seaborn v0.14.0.\n",
      "\n",
      "Please adapt your code to use either `displot` (a figure-level function with\n",
      "similar flexibility) or `histplot` (an axes-level function for histograms).\n",
      "\n",
      "For a guide to updating your code to use the new functions, please see\n",
      "https://gist.github.com/mwaskom/de44147ed2974457ad6372750bbe5751\n",
      "\n",
      "  sns.distplot(data['SALE PRICE'])\n"
     ]
    },
    {
     "data": {
      "text/plain": [
       "<Axes: xlabel='SALE PRICE', ylabel='Density'>"
      ]
     },
     "execution_count": 39,
     "metadata": {},
     "output_type": "execute_result"
    },
    {
     "data": {
      "image/png": "[encoded data removed]",
      "text/plain": [
       "<Figure size 640x480 with 1 Axes>"
      ]
     },
     "metadata": {},
     "output_type": "display_data"
    }
   ],
   "source": [
    "# Probability Distribution of Sale Price\n",
    "sns.distplot(data['SALE PRICE'])"
   ]
  },
  {
   "cell_type": "code",
   "execution_count": 40,
   "metadata": {},
   "outputs": [
    {
     "data": {
      "text/plain": [
       "2.373711682712686"
      ]
     },
     "execution_count": 40,
     "metadata": {},
     "output_type": "execute_result"
    }
   ],
   "source": [
    "#skewness of SalePrice\n",
    "data['SALE PRICE'].skew()"
   ]
  },
  {
   "cell_type": "markdown",
   "metadata": {},
   "source": [
    "Sale price is highly positively skewed."
   ]
  },
  {
   "cell_type": "code",
   "execution_count": 41,
   "metadata": {},
   "outputs": [
    {
     "name": "stdout",
     "output_type": "stream",
     "text": [
      "0.19249711883538315\n"
     ]
    },
    {
     "name": "stderr",
     "output_type": "stream",
     "text": [
      "/var/folders/xy/xy312wfd7rl3ln2c6qntrhdr0000gn/T/ipykernel_33129/3215388609.py:4: UserWarning: \n",
      "\n",
      "`distplot` is a deprecated function and will be removed in seaborn v0.14.0.\n",
      "\n",
      "Please adapt your code to use either `displot` (a figure-level function with\n",
      "similar flexibility) or `histplot` (an axes-level function for histograms).\n",
      "\n",
      "For a guide to updating your code to use the new functions, please see\n",
      "https://gist.github.com/mwaskom/de44147ed2974457ad6372750bbe5751\n",
      "\n",
      "  sns.distplot(sp_normal,\n"
     ]
    },
    {
     "data": {
      "text/plain": [
       "<Axes: xlabel='SALE PRICE', ylabel='Density'>"
      ]
     },
     "execution_count": 41,
     "metadata": {},
     "output_type": "execute_result"
    },
    {
     "data": {
      "image/png": "[encoded data removed]",
      "text/plain": [
       "<Figure size 640x480 with 1 Axes>"
      ]
     },
     "metadata": {},
     "output_type": "display_data"
    }
   ],
   "source": [
    "# Transform Sale Price with log transformation to manage the skew\n",
    "sp_normal =np.log(data['SALE PRICE'])\n",
    "print(sp_normal.skew())\n",
    "sns.distplot(sp_normal,\n",
    "             kde=True,\n",
    "             color='darkblue')"
   ]
  },
  {
   "cell_type": "markdown",
   "metadata": {},
   "source": [
    "## Confidence Interval"
   ]
  },
  {
   "cell_type": "markdown",
   "metadata": {},
   "source": [
    "- ### CI of Mean"
   ]
  },
  {
   "cell_type": "code",
   "execution_count": 42,
   "metadata": {},
   "outputs": [
    {
     "data": {
      "text/html": [
       "<div>\n",
       "<style scoped>\n",
       "    .dataframe tbody tr th:only-of-type {\n",
       "        vertical-align: middle;\n",
       "    }\n",
       "\n",
       "    .dataframe tbody tr th {\n",
       "        vertical-align: top;\n",
       "    }\n",
       "\n",
       "    .dataframe thead tr th {\n",
       "        text-align: left;\n",
       "    }\n",
       "\n",
       "    .dataframe thead tr:last-of-type th {\n",
       "        text-align: right;\n",
       "    }\n",
       "</style>\n",
       "<table border=\"1\" class=\"dataframe\">\n",
       "  <thead>\n",
       "    <tr>\n",
       "      <th></th>\n",
       "      <th colspan=\"3\" halign=\"left\">SALE PRICE</th>\n",
       "    </tr>\n",
       "    <tr>\n",
       "      <th></th>\n",
       "      <th>mean</th>\n",
       "      <th>std</th>\n",
       "      <th>size</th>\n",
       "    </tr>\n",
       "    <tr>\n",
       "      <th>BOROUGH</th>\n",
       "      <th></th>\n",
       "      <th></th>\n",
       "      <th></th>\n",
       "    </tr>\n",
       "  </thead>\n",
       "  <tbody>\n",
       "    <tr>\n",
       "      <th>Bronx</th>\n",
       "      <td>4.518542e+05</td>\n",
       "      <td>3.291198e+05</td>\n",
       "      <td>4415</td>\n",
       "    </tr>\n",
       "    <tr>\n",
       "      <th>Brooklyn</th>\n",
       "      <td>9.738906e+05</td>\n",
       "      <td>7.430736e+05</td>\n",
       "      <td>14399</td>\n",
       "    </tr>\n",
       "    <tr>\n",
       "      <th>Manhattan</th>\n",
       "      <td>1.380573e+06</td>\n",
       "      <td>1.028125e+06</td>\n",
       "      <td>12251</td>\n",
       "    </tr>\n",
       "    <tr>\n",
       "      <th>Queens</th>\n",
       "      <td>6.021809e+05</td>\n",
       "      <td>4.256398e+05</td>\n",
       "      <td>17349</td>\n",
       "    </tr>\n",
       "    <tr>\n",
       "      <th>Staten Island</th>\n",
       "      <td>4.836620e+05</td>\n",
       "      <td>2.137444e+05</td>\n",
       "      <td>5442</td>\n",
       "    </tr>\n",
       "  </tbody>\n",
       "</table>\n",
       "</div>"
      ],
      "text/plain": [
       "                 SALE PRICE                     \n",
       "                       mean           std   size\n",
       "BOROUGH                                         \n",
       "Bronx          4.518542e+05  3.291198e+05   4415\n",
       "Brooklyn       9.738906e+05  7.430736e+05  14399\n",
       "Manhattan      1.380573e+06  1.028125e+06  12251\n",
       "Queens         6.021809e+05  4.256398e+05  17349\n",
       "Staten Island  4.836620e+05  2.137444e+05   5442"
      ]
     },
     "execution_count": 42,
     "metadata": {},
     "output_type": "execute_result"
    }
   ],
   "source": [
    "# CI for sale price of Borough\n",
    "CI_Borough = data.groupby([\"BOROUGH\"]).agg({\"SALE PRICE\": [np.mean, np.std, np.size]})\n",
    "CI_Borough\n"
   ]
  },
  {
   "cell_type": "code",
   "execution_count": 43,
   "metadata": {},
   "outputs": [],
   "source": [
    "# CI for sale price in Queens\n",
    "mean_queens = 6.021809e+05\n",
    "std_queens = 4.256398e+05\n",
    "n = 17349\n",
    "z = 1.96 "
   ]
  },
  {
   "cell_type": "code",
   "execution_count": 44,
   "metadata": {},
   "outputs": [
    {
     "name": "stdout",
     "output_type": "stream",
     "text": [
      "Confidence Interval:  595847.1476519895 and 608514.6523480106\n"
     ]
    }
   ],
   "source": [
    "se = std_queens/ np.sqrt(n)\n",
    "\n",
    "lcb = mean_queens - z * se\n",
    "ucb = mean_queens + z * se\n",
    "\n",
    "print(\"Confidence Interval: \", lcb, 'and' , ucb)"
   ]
  },
  {
   "cell_type": "code",
   "execution_count": 45,
   "metadata": {},
   "outputs": [
    {
     "data": {
      "text/html": [
       "<div>\n",
       "<style scoped>\n",
       "    .dataframe tbody tr th:only-of-type {\n",
       "        vertical-align: middle;\n",
       "    }\n",
       "\n",
       "    .dataframe tbody tr th {\n",
       "        vertical-align: top;\n",
       "    }\n",
       "\n",
       "    .dataframe thead tr th {\n",
       "        text-align: left;\n",
       "    }\n",
       "\n",
       "    .dataframe thead tr:last-of-type th {\n",
       "        text-align: right;\n",
       "    }\n",
       "</style>\n",
       "<table border=\"1\" class=\"dataframe\">\n",
       "  <thead>\n",
       "    <tr>\n",
       "      <th></th>\n",
       "      <th></th>\n",
       "      <th colspan=\"3\" halign=\"left\">SALE PRICE</th>\n",
       "    </tr>\n",
       "    <tr>\n",
       "      <th></th>\n",
       "      <th></th>\n",
       "      <th>mean</th>\n",
       "      <th>std</th>\n",
       "      <th>size</th>\n",
       "    </tr>\n",
       "    <tr>\n",
       "      <th>BUILDING CLASS CATEGORY</th>\n",
       "      <th>BOROUGH</th>\n",
       "      <th></th>\n",
       "      <th></th>\n",
       "      <th></th>\n",
       "    </tr>\n",
       "  </thead>\n",
       "  <tbody>\n",
       "    <tr>\n",
       "      <th rowspan=\"5\" valign=\"top\">01 ONE FAMILY DWELLINGS</th>\n",
       "      <th>Bronx</th>\n",
       "      <td>4.252086e+05</td>\n",
       "      <td>1.946719e+05</td>\n",
       "      <td>982.0</td>\n",
       "    </tr>\n",
       "    <tr>\n",
       "      <th>Brooklyn</th>\n",
       "      <td>8.769684e+05</td>\n",
       "      <td>6.894051e+05</td>\n",
       "      <td>2228.0</td>\n",
       "    </tr>\n",
       "    <tr>\n",
       "      <th>Manhattan</th>\n",
       "      <td>2.521223e+06</td>\n",
       "      <td>1.300247e+06</td>\n",
       "      <td>27.0</td>\n",
       "    </tr>\n",
       "    <tr>\n",
       "      <th>Queens</th>\n",
       "      <td>6.159284e+05</td>\n",
       "      <td>3.039587e+05</td>\n",
       "      <td>5666.0</td>\n",
       "    </tr>\n",
       "    <tr>\n",
       "      <th>Staten Island</th>\n",
       "      <td>4.773104e+05</td>\n",
       "      <td>1.804808e+05</td>\n",
       "      <td>3318.0</td>\n",
       "    </tr>\n",
       "  </tbody>\n",
       "</table>\n",
       "</div>"
      ],
      "text/plain": [
       "                                                             SALE PRICE  \\\n",
       "                                                                   mean   \n",
       "BUILDING CLASS CATEGORY                     BOROUGH                       \n",
       "01 ONE FAMILY DWELLINGS                     Bronx          4.252086e+05   \n",
       "                                            Brooklyn       8.769684e+05   \n",
       "                                            Manhattan      2.521223e+06   \n",
       "                                            Queens         6.159284e+05   \n",
       "                                            Staten Island  4.773104e+05   \n",
       "\n",
       "                                                                         \\\n",
       "                                                                    std   \n",
       "BUILDING CLASS CATEGORY                     BOROUGH                       \n",
       "01 ONE FAMILY DWELLINGS                     Bronx          1.946719e+05   \n",
       "                                            Brooklyn       6.894051e+05   \n",
       "                                            Manhattan      1.300247e+06   \n",
       "                                            Queens         3.039587e+05   \n",
       "                                            Staten Island  1.804808e+05   \n",
       "\n",
       "                                                                   \n",
       "                                                             size  \n",
       "BUILDING CLASS CATEGORY                     BOROUGH                \n",
       "01 ONE FAMILY DWELLINGS                     Bronx           982.0  \n",
       "                                            Brooklyn       2228.0  \n",
       "                                            Manhattan        27.0  \n",
       "                                            Queens         5666.0  \n",
       "                                            Staten Island  3318.0  "
      ]
     },
     "execution_count": 45,
     "metadata": {},
     "output_type": "execute_result"
    }
   ],
   "source": [
    "# CI for sale price of One Family Dwellings in Queens\n",
    "CI_bcc = data.groupby([\"BUILDING CLASS CATEGORY\", \"BOROUGH\"]).agg({\"SALE PRICE\": [np.mean, np.std, np.size]})\n",
    "CI_bcc.head()"
   ]
  },
  {
   "cell_type": "code",
   "execution_count": 46,
   "metadata": {},
   "outputs": [],
   "source": [
    "mean_01 = 6.159284e+05\n",
    "std_01 = 3.039587e+05\n",
    "n = 5666\n",
    "z = 1.96 "
   ]
  },
  {
   "cell_type": "code",
   "execution_count": 47,
   "metadata": {},
   "outputs": [
    {
     "name": "stdout",
     "output_type": "stream",
     "text": [
      "Confidence Interval:  608013.7381482649 and 623843.0618517351\n"
     ]
    }
   ],
   "source": [
    "se = std_01/ np.sqrt(n)\n",
    "\n",
    "lcb = mean_01 - z * se\n",
    "ucb = mean_01 + z * se\n",
    "\n",
    "print(\"Confidence Interval: \", lcb, 'and' , ucb)"
   ]
  },
  {
   "cell_type": "markdown",
   "metadata": {},
   "source": [
    "## Hypothesis Testing"
   ]
  },
  {
   "cell_type": "markdown",
   "metadata": {},
   "source": [
    "- ### Difference of Means"
   ]
  },
  {
   "cell_type": "markdown",
   "metadata": {},
   "source": [
    "Apakah terdapat perbedaan rata-rata harga jual pada properti yang dibangun di tahun 1900an dan tahun 2000an?\n",
    "\n",
    "Significance level (alpha) : 5% (0.05)\n",
    "\n",
    "Hipotesis :\n",
    "\n",
    "H0: μ1 = μ2 (tidak terdapat perbedaan rata-rata harga jual pada properti yang dibangun di tahun 1900an dan tahun 2000an)\n",
    "\n",
    "H1: μ1 ≠ μ2 (terdapat perbedaan rata-rata harga jual pada properti yang dibangun di tahun 1900an dan tahun 2000an)"
   ]
  },
  {
   "cell_type": "code",
   "execution_count": 48,
   "metadata": {},
   "outputs": [
    {
     "data": {
      "text/html": [
       "<div>\n",
       "<style scoped>\n",
       "    .dataframe tbody tr th:only-of-type {\n",
       "        vertical-align: middle;\n",
       "    }\n",
       "\n",
       "    .dataframe tbody tr th {\n",
       "        vertical-align: top;\n",
       "    }\n",
       "\n",
       "    .dataframe thead th {\n",
       "        text-align: right;\n",
       "    }\n",
       "</style>\n",
       "<table border=\"1\" class=\"dataframe\">\n",
       "  <thead>\n",
       "    <tr style=\"text-align: right;\">\n",
       "      <th></th>\n",
       "      <th>YEAR BUILT</th>\n",
       "      <th>SALE PRICE</th>\n",
       "    </tr>\n",
       "  </thead>\n",
       "  <tbody>\n",
       "    <tr>\n",
       "      <th>3</th>\n",
       "      <td>1913</td>\n",
       "      <td>3936272.0</td>\n",
       "    </tr>\n",
       "    <tr>\n",
       "      <th>6</th>\n",
       "      <td>1920</td>\n",
       "      <td>3192840.0</td>\n",
       "    </tr>\n",
       "    <tr>\n",
       "      <th>13</th>\n",
       "      <td>1920</td>\n",
       "      <td>499000.0</td>\n",
       "    </tr>\n",
       "    <tr>\n",
       "      <th>15</th>\n",
       "      <td>1920</td>\n",
       "      <td>529500.0</td>\n",
       "    </tr>\n",
       "    <tr>\n",
       "      <th>16</th>\n",
       "      <td>1920</td>\n",
       "      <td>423000.0</td>\n",
       "    </tr>\n",
       "    <tr>\n",
       "      <th>17</th>\n",
       "      <td>1925</td>\n",
       "      <td>501000.0</td>\n",
       "    </tr>\n",
       "    <tr>\n",
       "      <th>18</th>\n",
       "      <td>1920</td>\n",
       "      <td>450000.0</td>\n",
       "    </tr>\n",
       "    <tr>\n",
       "      <th>19</th>\n",
       "      <td>1920</td>\n",
       "      <td>510000.0</td>\n",
       "    </tr>\n",
       "    <tr>\n",
       "      <th>21</th>\n",
       "      <td>1902</td>\n",
       "      <td>350000.0</td>\n",
       "    </tr>\n",
       "    <tr>\n",
       "      <th>24</th>\n",
       "      <td>1928</td>\n",
       "      <td>350000.0</td>\n",
       "    </tr>\n",
       "    <tr>\n",
       "      <th>25</th>\n",
       "      <td>1928</td>\n",
       "      <td>404000.0</td>\n",
       "    </tr>\n",
       "    <tr>\n",
       "      <th>26</th>\n",
       "      <td>1910</td>\n",
       "      <td>535000.0</td>\n",
       "    </tr>\n",
       "    <tr>\n",
       "      <th>27</th>\n",
       "      <td>1920</td>\n",
       "      <td>1400000.0</td>\n",
       "    </tr>\n",
       "    <tr>\n",
       "      <th>28</th>\n",
       "      <td>1900</td>\n",
       "      <td>866000.0</td>\n",
       "    </tr>\n",
       "    <tr>\n",
       "      <th>29</th>\n",
       "      <td>1930</td>\n",
       "      <td>355000.0</td>\n",
       "    </tr>\n",
       "    <tr>\n",
       "      <th>31</th>\n",
       "      <td>1900</td>\n",
       "      <td>805000.0</td>\n",
       "    </tr>\n",
       "    <tr>\n",
       "      <th>32</th>\n",
       "      <td>1910</td>\n",
       "      <td>475000.0</td>\n",
       "    </tr>\n",
       "    <tr>\n",
       "      <th>33</th>\n",
       "      <td>1920</td>\n",
       "      <td>450000.0</td>\n",
       "    </tr>\n",
       "    <tr>\n",
       "      <th>34</th>\n",
       "      <td>1920</td>\n",
       "      <td>450000.0</td>\n",
       "    </tr>\n",
       "    <tr>\n",
       "      <th>35</th>\n",
       "      <td>1935</td>\n",
       "      <td>810000.0</td>\n",
       "    </tr>\n",
       "  </tbody>\n",
       "</table>\n",
       "</div>"
      ],
      "text/plain": [
       "    YEAR BUILT  SALE PRICE\n",
       "3         1913   3936272.0\n",
       "6         1920   3192840.0\n",
       "13        1920    499000.0\n",
       "15        1920    529500.0\n",
       "16        1920    423000.0\n",
       "17        1925    501000.0\n",
       "18        1920    450000.0\n",
       "19        1920    510000.0\n",
       "21        1902    350000.0\n",
       "24        1928    350000.0\n",
       "25        1928    404000.0\n",
       "26        1910    535000.0\n",
       "27        1920   1400000.0\n",
       "28        1900    866000.0\n",
       "29        1930    355000.0\n",
       "31        1900    805000.0\n",
       "32        1910    475000.0\n",
       "33        1920    450000.0\n",
       "34        1920    450000.0\n",
       "35        1935    810000.0"
      ]
     },
     "execution_count": 48,
     "metadata": {},
     "output_type": "execute_result"
    }
   ],
   "source": [
    "yb_sp = data[['YEAR BUILT', 'SALE PRICE']]\n",
    "yb_sp.head(20)"
   ]
  },
  {
   "cell_type": "code",
   "execution_count": 49,
   "metadata": {},
   "outputs": [
    {
     "data": {
      "text/html": [
       "<div>\n",
       "<style scoped>\n",
       "    .dataframe tbody tr th:only-of-type {\n",
       "        vertical-align: middle;\n",
       "    }\n",
       "\n",
       "    .dataframe tbody tr th {\n",
       "        vertical-align: top;\n",
       "    }\n",
       "\n",
       "    .dataframe thead th {\n",
       "        text-align: right;\n",
       "    }\n",
       "</style>\n",
       "<table border=\"1\" class=\"dataframe\">\n",
       "  <thead>\n",
       "    <tr style=\"text-align: right;\">\n",
       "      <th></th>\n",
       "      <th>YEAR BUILT</th>\n",
       "      <th>SALE PRICE</th>\n",
       "    </tr>\n",
       "  </thead>\n",
       "  <tbody>\n",
       "    <tr>\n",
       "      <th>3</th>\n",
       "      <td>1913</td>\n",
       "      <td>3936272.0</td>\n",
       "    </tr>\n",
       "    <tr>\n",
       "      <th>6</th>\n",
       "      <td>1920</td>\n",
       "      <td>3192840.0</td>\n",
       "    </tr>\n",
       "    <tr>\n",
       "      <th>13</th>\n",
       "      <td>1920</td>\n",
       "      <td>499000.0</td>\n",
       "    </tr>\n",
       "    <tr>\n",
       "      <th>15</th>\n",
       "      <td>1920</td>\n",
       "      <td>529500.0</td>\n",
       "    </tr>\n",
       "    <tr>\n",
       "      <th>16</th>\n",
       "      <td>1920</td>\n",
       "      <td>423000.0</td>\n",
       "    </tr>\n",
       "  </tbody>\n",
       "</table>\n",
       "</div>"
      ],
      "text/plain": [
       "    YEAR BUILT  SALE PRICE\n",
       "3         1913   3936272.0\n",
       "6         1920   3192840.0\n",
       "13        1920    499000.0\n",
       "15        1920    529500.0\n",
       "16        1920    423000.0"
      ]
     },
     "execution_count": 49,
     "metadata": {},
     "output_type": "execute_result"
    }
   ],
   "source": [
    "yb_90s= yb_sp[(yb_sp[\"YEAR BUILT\"] >= 1900) & (yb_sp[\"YEAR BUILT\"] < 2000)]\n",
    "yb_90s.head()"
   ]
  },
  {
   "cell_type": "code",
   "execution_count": 50,
   "metadata": {},
   "outputs": [
    {
     "data": {
      "text/html": [
       "<div>\n",
       "<style scoped>\n",
       "    .dataframe tbody tr th:only-of-type {\n",
       "        vertical-align: middle;\n",
       "    }\n",
       "\n",
       "    .dataframe tbody tr th {\n",
       "        vertical-align: top;\n",
       "    }\n",
       "\n",
       "    .dataframe thead th {\n",
       "        text-align: right;\n",
       "    }\n",
       "</style>\n",
       "<table border=\"1\" class=\"dataframe\">\n",
       "  <thead>\n",
       "    <tr style=\"text-align: right;\">\n",
       "      <th></th>\n",
       "      <th>YEAR BUILT</th>\n",
       "      <th>SALE PRICE</th>\n",
       "    </tr>\n",
       "  </thead>\n",
       "  <tbody>\n",
       "    <tr>\n",
       "      <th>95</th>\n",
       "      <td>2014</td>\n",
       "      <td>701341.0</td>\n",
       "    </tr>\n",
       "    <tr>\n",
       "      <th>100</th>\n",
       "      <td>2014</td>\n",
       "      <td>753421.0</td>\n",
       "    </tr>\n",
       "    <tr>\n",
       "      <th>104</th>\n",
       "      <td>2014</td>\n",
       "      <td>771980.0</td>\n",
       "    </tr>\n",
       "    <tr>\n",
       "      <th>112</th>\n",
       "      <td>2014</td>\n",
       "      <td>1247356.0</td>\n",
       "    </tr>\n",
       "    <tr>\n",
       "      <th>116</th>\n",
       "      <td>2005</td>\n",
       "      <td>2150000.0</td>\n",
       "    </tr>\n",
       "  </tbody>\n",
       "</table>\n",
       "</div>"
      ],
      "text/plain": [
       "     YEAR BUILT  SALE PRICE\n",
       "95         2014    701341.0\n",
       "100        2014    753421.0\n",
       "104        2014    771980.0\n",
       "112        2014   1247356.0\n",
       "116        2005   2150000.0"
      ]
     },
     "execution_count": 50,
     "metadata": {},
     "output_type": "execute_result"
    }
   ],
   "source": [
    "yb_00s = yb_sp[yb_sp[\"YEAR BUILT\"] >= 2000]\n",
    "yb_00s.head()"
   ]
  },
  {
   "cell_type": "code",
   "execution_count": 51,
   "metadata": {},
   "outputs": [
    {
     "name": "stdout",
     "output_type": "stream",
     "text": [
      "41302 769141.8979952545 677883.9745991053 \n",
      " 7705 1146820.944192083 912094.1786953621\n"
     ]
    }
   ],
   "source": [
    "n90s = len(yb_90s)\n",
    "n00s = len(yb_00s)\n",
    "\n",
    "# Mean\n",
    "mean_90s = yb_90s[\"SALE PRICE\"].mean()\n",
    "mean_00s = yb_00s[\"SALE PRICE\"].mean()\n",
    "\n",
    "#Standard Deviation\n",
    "std_90s = yb_90s[\"SALE PRICE\"].std()\n",
    "std_00s = yb_00s[\"SALE PRICE\"].std()\n",
    "\n",
    "print(n90s, mean_90s, std_90s,'\\n',n00s, mean_00s, std_00s)"
   ]
  },
  {
   "cell_type": "code",
   "execution_count": 52,
   "metadata": {},
   "outputs": [
    {
     "data": {
      "text/plain": [
       "(-42.283577555846904, 0.0)"
      ]
     },
     "execution_count": 52,
     "metadata": {},
     "output_type": "execute_result"
    }
   ],
   "source": [
    "sm.stats.ztest(yb_90s['SALE PRICE'], yb_00s['SALE PRICE'], alternative='two-sided')"
   ]
  },
  {
   "cell_type": "markdown",
   "metadata": {},
   "source": [
    "Berdasarkan data di atas, diketahui p-value adalah 0.0 yang mana nilainya lebih kecil dari alpha (0.0 < 0.05). Maka dari itu, H0 ditolak dan H1 diterima, sehingga dapat disimpulkan bahwa ada cukup bukti untuk mengatakan bahwa terdapat perbedaan rata-rata harga jual pada properti yang dibangun di tahun 1900an dan tahun 2000an"
   ]
  },
  {
   "cell_type": "markdown",
   "metadata": {},
   "source": [
    "## Conclusions"
   ]
  },
  {
   "cell_type": "markdown",
   "metadata": {},
   "source": [
    "- Data yang digunakan untuk perhitungan statistik di tugas ini didapati dari hasil data cleaning dan inspection yang mana berjumlah 53856. Data ini pada awalnya berjumlah 84548 \n",
    "- Dari kelima Borough, yang memiliki harga jual dengan rata-rata dan nilai tengah yang tertinggi adalah Manhattan\n",
    "- Sale Price berdistribusi gamma dan kurvanya memiliki kemencengan positif, sehingga, untuk mengubah kurva tsb menjadi simetris, maka digunakan log transformation\n",
    "- Confidence Interval untuk rata-rata harga jual properti di daerah Queens berada di interval 595847.1476519895 dan 608514.6523480106 USD\n",
    "- Confidence Interval untuk rata-rata harga jual kategori kelas bangunan One Family Dwellings di Queens berada di interval 608013.7381482649 dan 623843.0618517351 USD\n",
    "- Berdasarkan hypothesis testing untuk menentukan apakah ada perbedaan rata-rata harga jual pada properti yang dibangun di tahun 1900an dan tahun 2000an, dapat diketahui p-value (0.0) kurang dari alpha (0.05). Dengan begitu, dapat dikatakan bahwa terdapat perbedaan rata-rata harga jual pada properti yang dibangun di tahun 1900an dan tahun 2000an"
   ]
  }
 ],
 "metadata": {
  "kernelspec": {
   "display_name": "Python 3",
   "language": "python",
   "name": "python3"
  },
  "language_info": {
   "codemirror_mode": {
    "name": "ipython",
    "version": 3
   },
   "file_extension": ".py",
   "mimetype": "text/x-python",
   "name": "python",
   "nbconvert_exporter": "python",
   "pygments_lexer": "ipython3",
   "version": "3.8.9"
  },
  "orig_nbformat": 4
 },
 "nbformat": 4,
 "nbformat_minor": 2
}
