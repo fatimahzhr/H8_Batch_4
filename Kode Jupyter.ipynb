{
 "cells": [
  {
   "cell_type": "markdown",
   "id": "0714fb2e",
   "metadata": {},
   "source": [
    "# KODE JUPYTER"
   ]
  },
  {
   "cell_type": "markdown",
   "id": "23dd516c",
   "metadata": {},
   "source": [
    "## Using Library"
   ]
  },
  {
   "cell_type": "code",
   "execution_count": 1,
   "id": "848e88d6",
   "metadata": {},
   "outputs": [],
   "source": [
    "import pandas as pd\n",
    "import numpy as np"
   ]
  },
  {
   "cell_type": "code",
   "execution_count": 6,
   "id": "db74faf8",
   "metadata": {},
   "outputs": [
    {
     "name": "stdout",
     "output_type": "stream",
     "text": [
      "   A  B  C\n",
      "0  1  2  3\n",
      "1  4  5  6\n"
     ]
    }
   ],
   "source": [
    "data = pd.DataFrame(data=np.array([[1,2,3], [4,5,6]], dtype=int), columns=['A','B','C'])\n",
    "print (data)"
   ]
  },
  {
   "cell_type": "markdown",
   "id": "1708434b",
   "metadata": {},
   "source": [
    "## Using Latex"
   ]
  },
  {
   "cell_type": "markdown",
   "id": "cb3b7e60",
   "metadata": {},
   "source": [
    "$$c = \\sqrt{a^2 + b^2} $$"
   ]
  },
  {
   "cell_type": "markdown",
   "id": "1a5b8a75",
   "metadata": {},
   "source": [
    "$\\sqrt{(7-1)^2 + (6-0)^2 + (9-0)^2 + (4-1)^2}$"
   ]
  },
  {
   "cell_type": "code",
   "execution_count": 8,
   "id": "94bf1704",
   "metadata": {},
   "outputs": [
    {
     "data": {
      "text/latex": [
       "$\\displaystyle \\sqrt{a^2 + b^2}$"
      ],
      "text/plain": [
       "<IPython.core.display.Math object>"
      ]
     },
     "metadata": {},
     "output_type": "display_data"
    }
   ],
   "source": [
    "from IPython.display import display, Math, Latex\n",
    "display(Math(r'\\sqrt{a^2 + b^2}'))"
   ]
  },
  {
   "cell_type": "markdown",
   "id": "e2e3c9af",
   "metadata": {},
   "source": [
    "## Executing Shell Commands"
   ]
  },
  {
   "cell_type": "code",
   "execution_count": 2,
   "id": "8328be31",
   "metadata": {},
   "outputs": [
    {
     "name": "stdout",
     "output_type": "stream",
     "text": [
      "-1.14-windows.xml\n",
      "3D Objects\n",
      "AppData\n",
      "Application Data\n",
      "Autodesk\n",
      "Contacts\n",
      "Cookies\n",
      "D\n",
      "Desktop\n",
      "Documents\n",
      "Downloads\n",
      "Favorites\n",
      "Kode Jupyter.ipynb\n",
      "Links\n",
      "Local Settings\n",
      "Music\n",
      "My Documents\n",
      "NTUSER.DAT\n",
      "NTUSER.DAT{fc6cac78-b418-11ed-a628-8a66bad16653}.TM.blf\n",
      "NTUSER.DAT{fc6cac78-b418-11ed-a628-8a66bad16653}.TMContainer00000000000000000001.regtrans-ms\n",
      "NTUSER.DAT{fc6cac78-b418-11ed-a628-8a66bad16653}.TMContainer00000000000000000002.regtrans-ms\n",
      "NetHood\n",
      "Numpy Practice.ipynb\n",
      "OneDrive\n",
      "Pertemuan 1.ipynb\n",
      "Pertemuan 2-Copy1.ipynb\n",
      "Pertemuan 2.ipynb\n",
      "Pictures\n",
      "PrintHood\n",
      "Recent\n",
      "Saved Games\n",
      "Searches\n",
      "SendTo\n",
      "Start Menu\n",
      "Templates\n",
      "Untitled1.ipynb\n",
      "Untitled3.ipynb\n",
      "Untitled5.ipynb\n",
      "Videos\n",
      "ntuser.dat.LOG1\n",
      "ntuser.dat.LOG2\n",
      "ntuser.ini\n",
      "source\n",
      "/c/Users/Fatimah Zahra\n",
      "'Halo Kode'\n"
     ]
    }
   ],
   "source": [
    "!ls\n",
    "!pwd\n",
    "!echo 'Halo Kode'"
   ]
  },
  {
   "cell_type": "markdown",
   "id": "4dc4ef11",
   "metadata": {},
   "source": [
    "### Pass Value to and from Shell"
   ]
  },
  {
   "cell_type": "code",
   "execution_count": 3,
   "id": "c178afd2",
   "metadata": {},
   "outputs": [
    {
     "name": "stdout",
     "output_type": "stream",
     "text": [
      "['-1.14-windows.xml', '3D Objects', 'AppData', 'Application Data', 'Autodesk', 'Contacts', 'Cookies', 'D', 'Desktop', 'Documents', 'Downloads', 'Favorites', 'Kode Jupyter.ipynb', 'Links', 'Local Settings', 'Music', 'My Documents', 'NTUSER.DAT', 'NTUSER.DAT{fc6cac78-b418-11ed-a628-8a66bad16653}.TM.blf', 'NTUSER.DAT{fc6cac78-b418-11ed-a628-8a66bad16653}.TMContainer00000000000000000001.regtrans-ms', 'NTUSER.DAT{fc6cac78-b418-11ed-a628-8a66bad16653}.TMContainer00000000000000000002.regtrans-ms', 'NetHood', 'Numpy Practice.ipynb', 'OneDrive', 'Pertemuan 1.ipynb', 'Pertemuan 2-Copy1.ipynb', 'Pertemuan 2.ipynb', 'Pictures', 'PrintHood', 'Recent', 'Saved Games', 'Searches', 'SendTo', 'Start Menu', 'Templates', 'Untitled1.ipynb', 'Untitled3.ipynb', 'Untitled5.ipynb', 'Videos', 'ntuser.dat.LOG1', 'ntuser.dat.LOG2', 'ntuser.ini', 'source']\n"
     ]
    }
   ],
   "source": [
    "files = !ls\n",
    "print (files)"
   ]
  },
  {
   "cell_type": "markdown",
   "id": "1cee7e04",
   "metadata": {},
   "source": [
    "## Widgets"
   ]
  },
  {
   "cell_type": "code",
   "execution_count": 1,
   "id": "c5af9911",
   "metadata": {},
   "outputs": [],
   "source": [
    "from ipywidgets import interact \n",
    "import ipywidgets as widgets"
   ]
  },
  {
   "cell_type": "markdown",
   "id": "f1a5d2b8",
   "metadata": {},
   "source": [
    "### Basic Slider"
   ]
  },
  {
   "cell_type": "code",
   "execution_count": 3,
   "id": "e52dc44b",
   "metadata": {},
   "outputs": [
    {
     "data": {
      "application/vnd.jupyter.widget-view+json": {
       "model_id": "b15e463d933f4d0285f728ae8cc59960",
       "version_major": 2,
       "version_minor": 0
      },
      "text/plain": [
       "interactive(children=(IntSlider(value=10, description='x', max=30, min=-10), Output()), _dom_classes=('widget-…"
      ]
     },
     "metadata": {},
     "output_type": "display_data"
    },
    {
     "data": {
      "text/plain": [
       "<function __main__.f(x)>"
      ]
     },
     "execution_count": 3,
     "metadata": {},
     "output_type": "execute_result"
    }
   ],
   "source": [
    "def f(x):\n",
    "    return x\n",
    "interact (f, x=10,)"
   ]
  },
  {
   "cell_type": "markdown",
   "id": "070247e0",
   "metadata": {},
   "source": [
    "### Checkbox"
   ]
  },
  {
   "cell_type": "code",
   "execution_count": 4,
   "id": "42f1da89",
   "metadata": {},
   "outputs": [
    {
     "data": {
      "application/vnd.jupyter.widget-view+json": {
       "model_id": "5acb34ea7b0448fd95243d0c888ca403",
       "version_major": 2,
       "version_minor": 0
      },
      "text/plain": [
       "interactive(children=(Checkbox(value=True, description='x'), Output()), _dom_classes=('widget-interact',))"
      ]
     },
     "metadata": {},
     "output_type": "display_data"
    },
    {
     "data": {
      "text/plain": [
       "<function __main__.f(x)>"
      ]
     },
     "execution_count": 4,
     "metadata": {},
     "output_type": "execute_result"
    }
   ],
   "source": [
    "interact (f, x=True)\n"
   ]
  },
  {
   "cell_type": "markdown",
   "id": "39299b14",
   "metadata": {},
   "source": [
    "### Textbox"
   ]
  },
  {
   "cell_type": "code",
   "execution_count": 5,
   "id": "d9ff899b",
   "metadata": {},
   "outputs": [
    {
     "data": {
      "application/vnd.jupyter.widget-view+json": {
       "model_id": "4a07b2b56cd94b25b0cf0359322f9b48",
       "version_major": 2,
       "version_minor": 0
      },
      "text/plain": [
       "interactive(children=(Text(value='Hi Kode', description='x'), Output()), _dom_classes=('widget-interact',))"
      ]
     },
     "metadata": {},
     "output_type": "display_data"
    },
    {
     "data": {
      "text/plain": [
       "<function __main__.f(x)>"
      ]
     },
     "execution_count": 5,
     "metadata": {},
     "output_type": "execute_result"
    }
   ],
   "source": [
    "interact(f, x='Hi Kode')"
   ]
  },
  {
   "cell_type": "markdown",
   "id": "d7614774",
   "metadata": {},
   "source": [
    "### Play Button"
   ]
  },
  {
   "cell_type": "code",
   "execution_count": 10,
   "id": "1fbcb48c",
   "metadata": {},
   "outputs": [
    {
     "data": {
      "application/vnd.jupyter.widget-view+json": {
       "model_id": "08ee9ed666104f72985fb42fc926cc8a",
       "version_major": 2,
       "version_minor": 0
      },
      "text/plain": [
       "HBox(children=(Play(value=50, description='Tekan Play'), IntSlider(value=0)))"
      ]
     },
     "metadata": {},
     "output_type": "display_data"
    }
   ],
   "source": [
    "play = widgets.Play(\n",
    "value=50,\n",
    "min=0,\n",
    "max=100,\n",
    "steps=1,\n",
    "description=\"Tekan Play\",\n",
    "disabled=False)\n",
    "slider= widgets.IntSlider()\n",
    "widgets.jslink((play, 'value'), (slider, 'value'))\n",
    "widgets.HBox((play, slider))"
   ]
  },
  {
   "cell_type": "code",
   "execution_count": 11,
   "id": "71c6520b",
   "metadata": {},
   "outputs": [
    {
     "data": {
      "application/vnd.jupyter.widget-view+json": {
       "model_id": "193657c0acde49039039ad0976c6edff",
       "version_major": 2,
       "version_minor": 0
      },
      "text/plain": [
       "DatePicker(value=None, description='Pilih Tanggal')"
      ]
     },
     "metadata": {},
     "output_type": "display_data"
    }
   ],
   "source": [
    "widgets.DatePicker(\n",
    "    description=\"Pilih Tanggal\",\n",
    "    disabled=False\n",
    ")\n",
    "    "
   ]
  },
  {
   "cell_type": "code",
   "execution_count": 12,
   "id": "6763ba96",
   "metadata": {},
   "outputs": [
    {
     "data": {
      "application/vnd.jupyter.widget-view+json": {
       "model_id": "208f21dd83b248eaa2b121cd1316bb04",
       "version_major": 2,
       "version_minor": 0
      },
      "text/plain": [
       "Tab(children=(Text(value='', description='Ko'), Text(value='', description='K1'), Text(value='', description='…"
      ]
     },
     "metadata": {},
     "output_type": "display_data"
    }
   ],
   "source": [
    "tab_contents = ['Ko', 'K1', 'K2', 'K3', 'K4']\n",
    "children = [widgets.Text(description=name) for name in tab_contents]\n",
    "tab = widgets.Tab()\n",
    "tab.children = children\n",
    "for i in range(len(children)):\n",
    "    tab.set_title(i, str(i))\n",
    "tab   "
   ]
  }
 ],
 "metadata": {
  "kernelspec": {
   "display_name": "Python 3 (ipykernel)",
   "language": "python",
   "name": "python3"
  },
  "language_info": {
   "codemirror_mode": {
    "name": "ipython",
    "version": 3
   },
   "file_extension": ".py",
   "mimetype": "text/x-python",
   "name": "python",
   "nbconvert_exporter": "python",
   "pygments_lexer": "ipython3",
   "version": "3.9.13"
  },
  "toc": {
   "base_numbering": 1,
   "nav_menu": {
    "height": "205.99px",
    "width": "295px"
   },
   "number_sections": true,
   "sideBar": true,
   "skip_h1_title": false,
   "title_cell": "Table of Contents",
   "title_sidebar": "Contents",
   "toc_cell": false,
   "toc_position": {},
   "toc_section_display": true,
   "toc_window_display": true
  }
 },
 "nbformat": 4,
 "nbformat_minor": 5
}
