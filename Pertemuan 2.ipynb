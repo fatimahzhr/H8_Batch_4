{
 "cells": [
  {
   "cell_type": "markdown",
   "id": "a356e3ed",
   "metadata": {},
   "source": [
    "# Conditions, Control Flow, and Looping"
   ]
  },
  {
   "cell_type": "code",
   "execution_count": 1,
   "id": "dacc05e5",
   "metadata": {},
   "outputs": [
    {
     "name": "stdout",
     "output_type": "stream",
     "text": [
      "False\n",
      "True\n",
      "True\n",
      "False\n",
      "False\n",
      "True\n"
     ]
    }
   ],
   "source": [
    "a = 10\n",
    "b = 20\n",
    "\n",
    "print (a == b)\n",
    "print (a != b)\n",
    "print (a <= b)\n",
    "print (a >= b)\n",
    "print (a > b)\n",
    "print (a < b)"
   ]
  },
  {
   "cell_type": "code",
   "execution_count": 3,
   "id": "65dd71d6",
   "metadata": {},
   "outputs": [],
   "source": [
    "if a == b:\n",
    "    print (\"a tidak sama dengan b\")"
   ]
  },
  {
   "cell_type": "code",
   "execution_count": 5,
   "id": "2e6e73c6",
   "metadata": {
    "scrolled": true
   },
   "outputs": [
    {
     "name": "stdout",
     "output_type": "stream",
     "text": [
      "foo exists\n"
     ]
    }
   ],
   "source": [
    "if 'foo' in 'This is our food':\n",
    "    print ('foo exists')"
   ]
  },
  {
   "cell_type": "code",
   "execution_count": 6,
   "id": "a617700a",
   "metadata": {},
   "outputs": [
    {
     "name": "stdout",
     "output_type": "stream",
     "text": [
      "20 is in list1\n"
     ]
    }
   ],
   "source": [
    "list1 = [10, 20, 30, 40]\n",
    "if 20 in list1:\n",
    "    print ('20 is in list1')"
   ]
  },
  {
   "cell_type": "code",
   "execution_count": 11,
   "id": "3562b47d",
   "metadata": {},
   "outputs": [
    {
     "name": "stdout",
     "output_type": "stream",
     "text": [
      "ini di luar if statement\n"
     ]
    }
   ],
   "source": [
    "if not (a != b):\n",
    "    \n",
    "    print (a)\n",
    "    print (a/10)\n",
    "    print (b)\n",
    "    print (\"a tidak sama dengan b\")\n",
    "    \n",
    "print ('ini di luar if statement')"
   ]
  },
  {
   "cell_type": "code",
   "execution_count": 14,
   "id": "f426fed1",
   "metadata": {},
   "outputs": [
    {
     "name": "stdout",
     "output_type": "stream",
     "text": [
      "a tidak sama dengan b\n",
      "a lebih kecil dari b\n",
      "statement di dalam if pertama tapi di luar if kedua\n"
     ]
    }
   ],
   "source": [
    "if a != b:\n",
    "    print ('a tidak sama dengan b')\n",
    "    if a < b:\n",
    "        print ('a lebih kecil dari b')\n",
    "    \n",
    "    print ('statement di dalam if pertama tapi di luar if kedua')\n",
    "    \n",
    "    if a > b:\n",
    "        print ('a lebih besar dari b')"
   ]
  },
  {
   "cell_type": "code",
   "execution_count": 23,
   "id": "d4a5b8c8",
   "metadata": {},
   "outputs": [
    {
     "name": "stdout",
     "output_type": "stream",
     "text": [
      "a tidak sama dengan b\n"
     ]
    }
   ],
   "source": [
    "a = 50\n",
    "b = 30\n",
    "\n",
    "if a != b:\n",
    "    print ('a tidak sama dengan b')\n",
    "else:\n",
    "    print ('a sama dgn b')"
   ]
  },
  {
   "cell_type": "code",
   "execution_count": 26,
   "id": "c267e93f",
   "metadata": {},
   "outputs": [
    {
     "name": "stdout",
     "output_type": "stream",
     "text": [
      "a sama dengan b\n"
     ]
    }
   ],
   "source": [
    "a = 50\n",
    "b = 50\n",
    "if a == b:\n",
    "    print('a sama dengan b')\n",
    "else:\n",
    "    if a < b:\n",
    "        print ('a lbh kecil dr b')\n",
    "    else:\n",
    "        print ('a lbh besar dr b')"
   ]
  },
  {
   "cell_type": "code",
   "execution_count": 27,
   "id": "25d56576",
   "metadata": {},
   "outputs": [
    {
     "name": "stdout",
     "output_type": "stream",
     "text": [
      "a sm dgn b\n",
      "print kedua\n"
     ]
    }
   ],
   "source": [
    "if a == b: print ('a sm dgn b');print ('print kedua')\n",
    "elif a>b: print ('a lbh besar dr b')\n",
    "else: print ('a lbh kecil dari b')"
   ]
  },
  {
   "cell_type": "code",
   "execution_count": 40,
   "id": "8e980737",
   "metadata": {},
   "outputs": [
    {
     "name": "stdout",
     "output_type": "stream",
     "text": [
      "ayo pergi ke cafe\n"
     ]
    }
   ],
   "source": [
    "hujan = True\n",
    "'di luar hujan' if hujan else 'di luar cerah'\n",
    "\n",
    "print ('ayo pergi ke', 'pantai' if not hujan else 'cafe')"
   ]
  },
  {
   "cell_type": "code",
   "execution_count": 39,
   "id": "7af75c06",
   "metadata": {},
   "outputs": [],
   "source": [
    "umur = 15\n",
    "if umur < 15:\n",
    "    status_ktp = 'belum punya KTP'\n",
    "else:\n",
    "    status_ktp = 'sudah punya KTP'"
   ]
  },
  {
   "cell_type": "code",
   "execution_count": null,
   "id": "a77c6589",
   "metadata": {},
   "outputs": [],
   "source": [
    "a = 50\n",
    "b = 30\n",
    "\n",
    "if a>=b:\n",
    "    m = a\n",
    "else:\n",
    "    m = b\n",
    "    \n",
    "print (m)"
   ]
  },
  {
   "cell_type": "code",
   "execution_count": null,
   "id": "9b556ab1",
   "metadata": {},
   "outputs": [],
   "source": [
    "if a > b:\n",
    "    pass "
   ]
  },
  {
   "cell_type": "markdown",
   "id": "c232c2ba",
   "metadata": {},
   "source": [
    "## Looping"
   ]
  },
  {
   "cell_type": "markdown",
   "id": "53f5aab9",
   "metadata": {},
   "source": [
    "### While Loop"
   ]
  },
  {
   "cell_type": "code",
   "execution_count": null,
   "id": "050f29d1",
   "metadata": {},
   "outputs": [],
   "source": [
    "a = 10\n",
    "\n",
    "while a > 0:\n",
    "    print(a)\n",
    "    a = a-1"
   ]
  },
  {
   "cell_type": "code",
   "execution_count": 2,
   "id": "b161e57c",
   "metadata": {},
   "outputs": [
    {
     "name": "stdout",
     "output_type": "stream",
     "text": [
      "10\n",
      "9\n",
      "8\n",
      "7\n",
      "6\n",
      "5\n",
      "4\n",
      "3\n",
      "2\n",
      "1\n"
     ]
    }
   ],
   "source": [
    "a = 10\n",
    "while a > 0:\n",
    "    print(a)\n",
    "    a = a-1"
   ]
  },
  {
   "cell_type": "code",
   "execution_count": 1,
   "id": "613fff98",
   "metadata": {},
   "outputs": [
    {
     "name": "stdout",
     "output_type": "stream",
     "text": [
      "0\n",
      "2\n",
      "4\n",
      "6\n",
      "8\n"
     ]
    }
   ],
   "source": [
    "i = 0\n",
    "while i < 10:\n",
    "    print (i)\n",
    "    i += 2 # i = i + 1"
   ]
  },
  {
   "cell_type": "code",
   "execution_count": 7,
   "id": "798a9274",
   "metadata": {},
   "outputs": [
    {
     "name": "stdout",
     "output_type": "stream",
     "text": [
      "0\n",
      "1\n",
      "2\n"
     ]
    }
   ],
   "source": [
    "i = 0\n",
    "while i < 10:\n",
    "    if i == 3:\n",
    "        break\n",
    "    print (i)\n",
    "    i += 1 # i = i + 1"
   ]
  },
  {
   "cell_type": "code",
   "execution_count": 9,
   "id": "0b46f50c",
   "metadata": {},
   "outputs": [
    {
     "name": "stdout",
     "output_type": "stream",
     "text": [
      "1\n",
      "2\n",
      "4\n",
      "5\n",
      "6\n",
      "7\n",
      "8\n",
      "9\n",
      "10\n"
     ]
    }
   ],
   "source": [
    "i = 0\n",
    "while i < 10:\n",
    "    i += 1 # i = i + 1\n",
    "    \n",
    "    if i == 3:\n",
    "        continue\n",
    "        \n",
    "    print (i)"
   ]
  },
  {
   "cell_type": "code",
   "execution_count": 10,
   "id": "06141182",
   "metadata": {},
   "outputs": [
    {
     "name": "stdout",
     "output_type": "stream",
     "text": [
      "1\n",
      "2\n",
      "3\n",
      "4\n",
      "5\n",
      "6\n",
      "7\n",
      "8\n",
      "9\n",
      "10\n"
     ]
    }
   ],
   "source": [
    "i = 0\n",
    "while i < 10:\n",
    "    i += 1 # i = i + 1\n",
    "    \n",
    "    if i == 3:\n",
    "        pass\n",
    "        \n",
    "    print (i)"
   ]
  },
  {
   "cell_type": "code",
   "execution_count": 12,
   "id": "4c5cfae1",
   "metadata": {},
   "outputs": [
    {
     "name": "stdout",
     "output_type": "stream",
     "text": [
      "0 0 0 0 0 0 0 0 0 0 \n",
      "1 1 1 1 1 1 1 1 1 1 \n",
      "2 2 2 2 2 2 2 2 2 2 \n",
      "3 3 3 3 3 3 3 3 3 3 \n",
      "4 4 4 4 4 4 4 4 4 4 \n",
      "5 5 5 5 5 5 5 5 5 5 \n",
      "6 6 6 6 6 6 6 6 6 6 \n",
      "7 7 7 7 7 7 7 7 7 7 \n",
      "8 8 8 8 8 8 8 8 8 8 \n",
      "9 9 9 9 9 9 9 9 9 9 \n"
     ]
    }
   ],
   "source": [
    "i = j = 0\n",
    "while i < 10:\n",
    "    j = 0\n",
    "    while j < 10:\n",
    "        print (i, end= ' ')\n",
    "        j += 1\n",
    "        \n",
    "    print ()\n",
    "    i += 1"
   ]
  },
  {
   "cell_type": "code",
   "execution_count": 14,
   "id": "0ea2e3fa",
   "metadata": {},
   "outputs": [
    {
     "name": "stdout",
     "output_type": "stream",
     "text": [
      "1\n",
      "2\n",
      "di luar loop\n"
     ]
    }
   ],
   "source": [
    "i = 0\n",
    "while i < 10:\n",
    "    i += 1 # i = i + 1\n",
    "    if i == 3:\n",
    "        break\n",
    "    print (i)\n",
    "else:\n",
    "    print ('akhir loop')\n",
    "    \n",
    "print ('di luar loop')\n",
    "    "
   ]
  },
  {
   "cell_type": "markdown",
   "id": "d68ca5bb",
   "metadata": {},
   "source": [
    "### For Loop"
   ]
  },
  {
   "cell_type": "code",
   "execution_count": 17,
   "id": "5c91cc5e",
   "metadata": {},
   "outputs": [
    {
     "name": "stdout",
     "output_type": "stream",
     "text": [
      "abc\n",
      "3\n",
      "def\n",
      "3\n",
      "hij\n",
      "3\n",
      "klm\n",
      "3\n"
     ]
    }
   ],
   "source": [
    "list2 = ['abc', 'def', 'hij', 'klm']\n",
    "\n",
    "for i in list2:\n",
    "    print (i)\n",
    "    print (len(i))"
   ]
  },
  {
   "cell_type": "code",
   "execution_count": 22,
   "id": "f6e93a27",
   "metadata": {},
   "outputs": [
    {
     "name": "stdout",
     "output_type": "stream",
     "text": [
      "pertama\n",
      "1\n",
      "kedua\n",
      "2\n",
      "ketiga\n",
      "3\n",
      "keempat\n",
      "4\n"
     ]
    }
   ],
   "source": [
    "dictionary1 = {\n",
    "    'pertama': 1,\n",
    "    'kedua': 2,\n",
    "    'ketiga': 3,\n",
    "    'keempat': 4\n",
    "}\n",
    "\n",
    "for key in dictionary1:\n",
    "    print(key)\n",
    "    print(dictionary1[key])"
   ]
  },
  {
   "cell_type": "code",
   "execution_count": 23,
   "id": "9d2038ed",
   "metadata": {},
   "outputs": [
    {
     "name": "stdout",
     "output_type": "stream",
     "text": [
      "0\n",
      "1\n",
      "2\n",
      "3\n",
      "4\n"
     ]
    }
   ],
   "source": [
    "for number in (0,1,2,3,4):\n",
    "    print (number)"
   ]
  },
  {
   "cell_type": "code",
   "execution_count": 24,
   "id": "5b02b1f5",
   "metadata": {},
   "outputs": [
    {
     "name": "stdout",
     "output_type": "stream",
     "text": [
      "0\n",
      "1\n",
      "2\n",
      "3\n",
      "4\n"
     ]
    }
   ],
   "source": [
    "for number in range (5):\n",
    "    print (number)"
   ]
  },
  {
   "cell_type": "markdown",
   "id": "fe7741c7",
   "metadata": {},
   "source": [
    "range (n-1)"
   ]
  },
  {
   "cell_type": "code",
   "execution_count": 25,
   "id": "9763284e",
   "metadata": {},
   "outputs": [
    {
     "name": "stdout",
     "output_type": "stream",
     "text": [
      "1\n",
      "2\n",
      "3\n",
      "4\n",
      "5\n",
      "6\n",
      "7\n",
      "8\n",
      "9\n"
     ]
    }
   ],
   "source": [
    "for number in range (1,10):\n",
    "    print (number)"
   ]
  },
  {
   "cell_type": "markdown",
   "id": "d95b0c3e",
   "metadata": {},
   "source": [
    "0 tidak masuk"
   ]
  },
  {
   "cell_type": "code",
   "execution_count": 26,
   "id": "22dd550f",
   "metadata": {},
   "outputs": [
    {
     "name": "stdout",
     "output_type": "stream",
     "text": [
      "0\n",
      "2\n",
      "4\n",
      "6\n",
      "8\n"
     ]
    }
   ],
   "source": [
    "for number in range (0,10,2):\n",
    "    print (number)"
   ]
  },
  {
   "cell_type": "code",
   "execution_count": 30,
   "id": "07db4314",
   "metadata": {},
   "outputs": [
    {
     "name": "stdout",
     "output_type": "stream",
     "text": [
      "1\n",
      "2\n"
     ]
    }
   ],
   "source": [
    "i = 0\n",
    "for i in range (1,11):\n",
    "    if i == 3:\n",
    "        break\n",
    "    print (i)"
   ]
  },
  {
   "cell_type": "code",
   "execution_count": 33,
   "id": "66941492",
   "metadata": {},
   "outputs": [
    {
     "name": "stdout",
     "output_type": "stream",
     "text": [
      "1\n",
      "2\n"
     ]
    }
   ],
   "source": [
    "for i in range (1,11):\n",
    "    if i == 3:\n",
    "        break\n",
    "    print (i)\n",
    "else:\n",
    "    print(\"loopp selesai\")"
   ]
  }
 ],
 "metadata": {
  "kernelspec": {
   "display_name": "Python 3 (ipykernel)",
   "language": "python",
   "name": "python3"
  },
  "language_info": {
   "codemirror_mode": {
    "name": "ipython",
    "version": 3
   },
   "file_extension": ".py",
   "mimetype": "text/x-python",
   "name": "python",
   "nbconvert_exporter": "python",
   "pygments_lexer": "ipython3",
   "version": "3.9.13"
  },
  "toc": {
   "base_numbering": 1,
   "nav_menu": {},
   "number_sections": true,
   "sideBar": true,
   "skip_h1_title": false,
   "title_cell": "Table of Contents",
   "title_sidebar": "Contents",
   "toc_cell": false,
   "toc_position": {},
   "toc_section_display": true,
   "toc_window_display": false
  }
 },
 "nbformat": 4,
 "nbformat_minor": 5
}
